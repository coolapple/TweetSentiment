{
  "nbformat": 4,
  "nbformat_minor": 0,
  "metadata": {
    "kernelspec": {
      "display_name": "Python 3",
      "language": "python",
      "name": "python3"
    },
    "language_info": {
      "codemirror_mode": {
        "name": "ipython",
        "version": 3
      },
      "file_extension": ".py",
      "mimetype": "text/x-python",
      "name": "python",
      "nbconvert_exporter": "python",
      "pygments_lexer": "ipython3",
      "version": "3.6.8"
    },
    "colab": {
      "name": "Tweet Sentiment_PredictiveModeling.ipynb",
      "provenance": [],
      "collapsed_sections": []
    }
  },
  "cells": [
    {
      "cell_type": "markdown",
      "metadata": {
        "id": "EaFDa55RNIf3",
        "colab_type": "text"
      },
      "source": [
        "# Tweet Sentiment Predictive Modeling\n",
        "\n",
        "1. Show data cleaning and preparation steps\n",
        "\n",
        "2. Perform EDA on the given dataset and list out findings\n",
        "\n",
        "3. Predict Sentiment using various models and technicals\n",
        "\n",
        "4. Model validation and summary"
      ]
    },
    {
      "cell_type": "code",
      "metadata": {
        "id": "w2BnFaLoNIf5",
        "colab_type": "code",
        "outputId": "fe2252ee-5fb3-4a08-98a5-a78b64053cd8",
        "colab": {
          "base_uri": "https://localhost:8080/",
          "height": 85
        }
      },
      "source": [
        "# Importing neccessary Packages\n",
        "import numpy as np\n",
        "import pandas as pd\n",
        "import matplotlib.pyplot as plt\n",
        "from scipy.stats import mode\n",
        "from scipy import stats\n",
        "%matplotlib inline\n",
        "\n",
        "# Libraries\n",
        "from __future__ import print_function\n",
        "import seaborn as sns #visualization\n",
        "\n",
        "import itertools\n",
        "import warnings\n",
        "warnings.filterwarnings(\"ignore\")\n",
        "import os\n",
        "import io\n",
        "import plotly.offline as py #visualization\n",
        "py.init_notebook_mode(connected=True) #visualization\n",
        "import plotly.graph_objs as go #visualization\n",
        "import plotly.tools as tls #visualization\n",
        "import plotly.figure_factory as ff #visualization\n",
        "#print(os.listdir(\"../input\"))\n",
        "from plotly.offline import *\n",
        "\n",
        "import nltk\n",
        "nltk.download('stopwords')\n",
        "nltk.download('wordnet')\n",
        "from nltk.corpus import stopwords\n",
        "from nltk.stem.porter import PorterStemmer\n",
        "from nltk.stem import WordNetLemmatizer\n"
      ],
      "execution_count": 31,
      "outputs": [
        {
          "output_type": "display_data",
          "data": {
            "text/html": [
              "        <script type=\"text/javascript\">\n",
              "        window.PlotlyConfig = {MathJaxConfig: 'local'};\n",
              "        if (window.MathJax) {MathJax.Hub.Config({SVG: {font: \"STIX-Web\"}});}\n",
              "        if (typeof require !== 'undefined') {\n",
              "        require.undef(\"plotly\");\n",
              "        requirejs.config({\n",
              "            paths: {\n",
              "                'plotly': ['https://cdn.plot.ly/plotly-latest.min']\n",
              "            }\n",
              "        });\n",
              "        require(['plotly'], function(Plotly) {\n",
              "            window._Plotly = Plotly;\n",
              "        });\n",
              "        }\n",
              "        </script>\n",
              "        "
            ]
          },
          "metadata": {
            "tags": []
          }
        },
        {
          "output_type": "stream",
          "text": [
            "[nltk_data] Downloading package stopwords to /root/nltk_data...\n",
            "[nltk_data]   Package stopwords is already up-to-date!\n",
            "[nltk_data] Downloading package wordnet to /root/nltk_data...\n",
            "[nltk_data]   Package wordnet is already up-to-date!\n"
          ],
          "name": "stdout"
        }
      ]
    },
    {
      "cell_type": "code",
      "metadata": {
        "id": "fH4HHSHCNIf8",
        "colab_type": "code",
        "colab": {}
      },
      "source": [
        "# Get mode values from mode function\n",
        "def Mode(x, axis=0):\n",
        "    return mode(x, axis).mode"
      ],
      "execution_count": 0,
      "outputs": []
    },
    {
      "cell_type": "markdown",
      "metadata": {
        "id": "rwwDAs0rNIgA",
        "colab_type": "text"
      },
      "source": [
        "## 1. Data Cleaning and preparation steps"
      ]
    },
    {
      "cell_type": "code",
      "metadata": {
        "id": "itC0ZuGMNIgB",
        "colab_type": "code",
        "colab": {}
      },
      "source": [
        "# Load dataset\n",
        "dataset = pd.read_excel(open('uglywords_2Creat_v2.xlsx', 'rb'),\n",
        "              sheet_name='uglywords1')"
      ],
      "execution_count": 0,
      "outputs": []
    },
    {
      "cell_type": "code",
      "metadata": {
        "id": "8rnKZL3hNIgE",
        "colab_type": "code",
        "outputId": "76b20342-864f-45d1-fce3-6f095c28da1a",
        "colab": {
          "base_uri": "https://localhost:8080/",
          "height": 80
        }
      },
      "source": [
        "# Quick view of data\n",
        "dataset.head(1)"
      ],
      "execution_count": 34,
      "outputs": [
        {
          "output_type": "execute_result",
          "data": {
            "text/html": [
              "<div>\n",
              "<style scoped>\n",
              "    .dataframe tbody tr th:only-of-type {\n",
              "        vertical-align: middle;\n",
              "    }\n",
              "\n",
              "    .dataframe tbody tr th {\n",
              "        vertical-align: top;\n",
              "    }\n",
              "\n",
              "    .dataframe thead th {\n",
              "        text-align: right;\n",
              "    }\n",
              "</style>\n",
              "<table border=\"1\" class=\"dataframe\">\n",
              "  <thead>\n",
              "    <tr style=\"text-align: right;\">\n",
              "      <th></th>\n",
              "      <th>Label</th>\n",
              "      <th>Tweet</th>\n",
              "    </tr>\n",
              "  </thead>\n",
              "  <tbody>\n",
              "    <tr>\n",
              "      <th>0</th>\n",
              "      <td>0.0</td>\n",
              "      <td>*screams in 25 different languages*</td>\n",
              "    </tr>\n",
              "  </tbody>\n",
              "</table>\n",
              "</div>"
            ],
            "text/plain": [
              "   Label                                Tweet\n",
              "0    0.0  *screams in 25 different languages*"
            ]
          },
          "metadata": {
            "tags": []
          },
          "execution_count": 34
        }
      ]
    },
    {
      "cell_type": "code",
      "metadata": {
        "id": "CdKXUzRCOYMm",
        "colab_type": "code",
        "outputId": "8608cfd6-3a50-4743-93e1-37335c7b7132",
        "colab": {
          "base_uri": "https://localhost:8080/",
          "height": 68
        }
      },
      "source": [
        "dataset.nunique()"
      ],
      "execution_count": 5,
      "outputs": [
        {
          "output_type": "execute_result",
          "data": {
            "text/plain": [
              "Label       2\n",
              "Tweet    1855\n",
              "dtype: int64"
            ]
          },
          "metadata": {
            "tags": []
          },
          "execution_count": 5
        }
      ]
    },
    {
      "cell_type": "code",
      "metadata": {
        "id": "EKwOq72jNIgS",
        "colab_type": "code",
        "outputId": "7d5229ab-3418-45bf-eb0c-0ec20d3005a5",
        "colab": {
          "base_uri": "https://localhost:8080/",
          "height": 68
        }
      },
      "source": [
        "# Percentage per category for the target column.\n",
        "percentage_labels = dataset['Label'].value_counts(normalize = True) * 100\n",
        "percentage_labels"
      ],
      "execution_count": 6,
      "outputs": [
        {
          "output_type": "execute_result",
          "data": {
            "text/plain": [
              "0.0    80.053548\n",
              "1.0    19.946452\n",
              "Name: Label, dtype: float64"
            ]
          },
          "metadata": {
            "tags": []
          },
          "execution_count": 6
        }
      ]
    },
    {
      "cell_type": "code",
      "metadata": {
        "id": "Lzu0QnRMNIgY",
        "colab_type": "code",
        "outputId": "d96ddaeb-af19-4f92-aae5-b97cd116e39a",
        "colab": {
          "base_uri": "https://localhost:8080/",
          "height": 487
        }
      },
      "source": [
        "\n",
        "labels = 'Useful', 'NonUseful'\n",
        "sizes = [dataset.Label[dataset['Label']==1].count(), dataset.Label[dataset['Label']==0].count()]\n",
        "explode = (0, 0.1)\n",
        "fig1, ax1 = plt.subplots(figsize=(10, 8))\n",
        "ax1.pie(sizes, explode=explode, labels=labels, autopct='%1.1f%%',\n",
        "        shadow=True, startangle=90)\n",
        "ax1.axis('equal')\n",
        "plt.title(\"Proportion of Tweet Sentiment \", size = 20)\n",
        "plt.show()"
      ],
      "execution_count": 35,
      "outputs": [
        {
          "output_type": "display_data",
          "data": {
            "image/png": "[encoded data removed]",
            "text/plain": [
              "<Figure size 720x576 with 1 Axes>"
            ]
          },
          "metadata": {
            "tags": []
          }
        }
      ]
    },
    {
      "cell_type": "code",
      "metadata": {
        "id": "TQ0-Ow0cp4Ef",
        "colab_type": "code",
        "colab": {
          "base_uri": "https://localhost:8080/",
          "height": 85
        },
        "outputId": "59602bb7-2f42-4ab0-96e1-a6f7203d94be"
      },
      "source": [
        "# Cleaning the texts\n",
        "import re\n",
        "import nltk\n",
        "nltk.download('stopwords')\n",
        "nltk.download('wordnet')\n",
        "from nltk.corpus import stopwords\n",
        "from nltk.stem.porter import PorterStemmer\n",
        "from nltk.stem import WordNetLemmatizer\n",
        "\n",
        "# init lemmatizer\n",
        "lemmatizer = WordNetLemmatizer()\n",
        "\n",
        "corpus = []\n",
        "for i in range(1, 695):  # 738\n",
        "\n",
        "    review = re.sub(r'http\\S+', '',  dataset['Tweet'][i])\n",
        "    review = re.sub(r'@[A-Za-z0-9]+','',review)\n",
        "    review = re.sub('[^a-zA-Z]', ' ', review)\n",
        "    review = review.lower()\n",
        "    review = review.split()\n",
        "\n",
        "    # init lemmatizer\n",
        "    lemmatizer = WordNetLemmatizer()\n",
        "    lemmatized_words=[lemmatizer.lemmatize(word=word,pos='n') for word in review]\n",
        "    \n",
        "    #review = ' '.join( [w for w in lemmatized_words if len(w)>1] )\n",
        "    # init porter stemmer\n",
        "    ps = PorterStemmer()\n",
        "    review = [ps.stem(word) for word in lemmatized_words if not word in set(stopwords.words('english'))]\n",
        "\n",
        "    \n",
        "    #review = ' '.join(review)\n",
        "    review = ' '.join( [w for w in lemmatized_words if len(w)>1] )\n",
        "    corpus.append(review)"
      ],
      "execution_count": 36,
      "outputs": [
        {
          "output_type": "stream",
          "text": [
            "[nltk_data] Downloading package stopwords to /root/nltk_data...\n",
            "[nltk_data]   Package stopwords is already up-to-date!\n",
            "[nltk_data] Downloading package wordnet to /root/nltk_data...\n",
            "[nltk_data]   Package wordnet is already up-to-date!\n"
          ],
          "name": "stdout"
        }
      ]
    },
    {
      "cell_type": "code",
      "metadata": {
        "id": "62eeDD0ANIge",
        "colab_type": "code",
        "colab": {
          "base_uri": "https://localhost:8080/",
          "height": 298
        },
        "outputId": "637e1fda-83bf-485b-c0fd-6a4de8715dcd"
      },
      "source": [
        "#Find words spreading (each word frequency)\n",
        "freq_d = pd.Series(' '.join(corpus).split()).value_counts()\n",
        "#Plot the words distribution\n",
        "freq_d.plot(kind='line', ax=None, figsize=None, use_index=True,\n",
        "            title=\"Word distribution\", grid=None, legend=False, style=None,\n",
        "            logx=False, logy=False, loglog=False, xticks=None,\n",
        "            yticks=None, xlim=None, ylim=None, rot=None,\n",
        "            fontsize=None, colormap=None, table=False, yerr=None,\n",
        "            xerr=None, label=None, secondary_y=False)"
      ],
      "execution_count": 38,
      "outputs": [
        {
          "output_type": "execute_result",
          "data": {
            "text/plain": [
              "<matplotlib.axes._subplots.AxesSubplot at 0x7f263ba765f8>"
            ]
          },
          "metadata": {
            "tags": []
          },
          "execution_count": 38
        },
        {
          "output_type": "display_data",
          "data": {
            "image/png": "[encoded data removed]",
            "text/plain": [
              "<Figure size 432x288 with 1 Axes>"
            ]
          },
          "metadata": {
            "tags": []
          }
        }
      ]
    },
    {
      "cell_type": "code",
      "metadata": {
        "id": "QFo6IyulNIhD",
        "colab_type": "code",
        "colab": {}
      },
      "source": [
        ""
      ],
      "execution_count": 0,
      "outputs": []
    },
    {
      "cell_type": "markdown",
      "metadata": {
        "id": "kDfm9xZkNIhG",
        "colab_type": "text"
      },
      "source": [
        "## 2. Feature Engineering and EDA analysis\n",
        "1. Bag of words\n",
        "2. Term frequency and inverse term frequency\n"
      ]
    },
    {
      "cell_type": "markdown",
      "metadata": {
        "id": "gUAgyPK3NIhH",
        "colab_type": "text"
      },
      "source": [
        "### 2.1. Bag of words\n",
        "\n",
        "\n",
        "---\n",
        "\n"
      ]
    },
    {
      "cell_type": "code",
      "metadata": {
        "id": "DNawn5PnNIhI",
        "colab_type": "code",
        "colab": {}
      },
      "source": [
        "\n",
        "# Creating the Bag of Words model\n",
        "# only 1-grams\n",
        "from sklearn.feature_extraction.text import CountVectorizer\n",
        "cv = CountVectorizer(max_features = 1500)\n",
        "X = cv.fit_transform(corpus).toarray()\n",
        "#dataset['Label'].fillna(0)\n",
        "y =  dataset.iloc[1:695, 0].values   #738\n"
      ],
      "execution_count": 0,
      "outputs": []
    },
    {
      "cell_type": "code",
      "metadata": {
        "id": "brbD_nGaNIhK",
        "colab_type": "code",
        "colab": {}
      },
      "source": [
        "# additonal model for 1-grams, and 2-grams\n",
        "# use TreeankWordTokenizer\n",
        "from nltk.tokenize import TreebankWordTokenizer\n",
        "tokenizer = TreebankWordTokenizer()\n",
        "cv.set_params(tokenizer=tokenizer.tokenize)\n",
        "\n",
        "# remove English stop words\n",
        "cv.set_params(stop_words='english')\n",
        "\n",
        "# include 1-grams and 2-grams\n",
        "cv.set_params(ngram_range=(1, 2))\n",
        "\n",
        "\n",
        "\n",
        "X = cv.fit_transform(corpus).toarray()  \n",
        "\n",
        "# need to remove low freq n-grams\n"
      ],
      "execution_count": 0,
      "outputs": []
    },
    {
      "cell_type": "code",
      "metadata": {
        "id": "_7FMNZmR3Oqx",
        "colab_type": "code",
        "colab": {}
      },
      "source": [
        ""
      ],
      "execution_count": 0,
      "outputs": []
    },
    {
      "cell_type": "code",
      "metadata": {
        "id": "PTdI-z5gqT4a",
        "colab_type": "code",
        "colab": {}
      },
      "source": [
        ""
      ],
      "execution_count": 0,
      "outputs": []
    },
    {
      "cell_type": "markdown",
      "metadata": {
        "id": "mcnTbeY7qmBs",
        "colab_type": "text"
      },
      "source": [
        "### 2.2. Term frequency and inverse term frequency "
      ]
    },
    {
      "cell_type": "code",
      "metadata": {
        "id": "yMc1WmK8NIhP",
        "colab_type": "code",
        "colab": {}
      },
      "source": [
        "# additonal model for TF-ITF vectorization\n",
        "from sklearn.feature_extraction.text import TfidfVectorizer\n",
        "tfidf = TfidfVectorizer(min_df=2, max_df=0.5, ngram_range=(1,2))\n",
        "features = tfidf.fit_transform(corpus)\n"
      ],
      "execution_count": 0,
      "outputs": []
    },
    {
      "cell_type": "code",
      "metadata": {
        "id": "ekMgHDKLTzh-",
        "colab_type": "code",
        "colab": {}
      },
      "source": [
        "df_tfidf = pd.DataFrame(features.todense(), columns= tfidf.get_feature_names())"
      ],
      "execution_count": 0,
      "outputs": []
    },
    {
      "cell_type": "code",
      "metadata": {
        "id": "k0pkuiL8Ss_Y",
        "colab_type": "code",
        "colab": {
          "base_uri": "https://localhost:8080/",
          "height": 34
        },
        "outputId": "765ec13a-1bd9-436b-a52f-45406b6cc40c"
      },
      "source": [
        "selected_features = []\n",
        "for i in range(len(df_tfidf.columns)):\n",
        "  i\n",
        "  if (sum(df_tfidf.iloc[:, i] > 0)) > 2:\n",
        "    selected_features.append(i)\n",
        "         \n",
        "len(selected_features)"
      ],
      "execution_count": 17,
      "outputs": [
        {
          "output_type": "execute_result",
          "data": {
            "text/plain": [
              "824"
            ]
          },
          "metadata": {
            "tags": []
          },
          "execution_count": 17
        }
      ]
    },
    {
      "cell_type": "code",
      "metadata": {
        "id": "o153yPyWSt50",
        "colab_type": "code",
        "colab": {}
      },
      "source": [
        "df_tfidf= df_tfidf.iloc[:, selected_features]"
      ],
      "execution_count": 0,
      "outputs": []
    },
    {
      "cell_type": "code",
      "metadata": {
        "id": "DyPqvrmCS2a3",
        "colab_type": "code",
        "colab": {
          "base_uri": "https://localhost:8080/",
          "height": 363
        },
        "outputId": "809bac19-cc6f-40a3-978d-829d0d5fe93e"
      },
      "source": [
        "\n",
        "df_tfidf.describe()"
      ],
      "execution_count": 19,
      "outputs": [
        {
          "output_type": "execute_result",
          "data": {
            "text/html": [
              "<div>\n",
              "<style scoped>\n",
              "    .dataframe tbody tr th:only-of-type {\n",
              "        vertical-align: middle;\n",
              "    }\n",
              "\n",
              "    .dataframe tbody tr th {\n",
              "        vertical-align: top;\n",
              "    }\n",
              "\n",
              "    .dataframe thead th {\n",
              "        text-align: right;\n",
              "    }\n",
              "</style>\n",
              "<table border=\"1\" class=\"dataframe\">\n",
              "  <thead>\n",
              "    <tr style=\"text-align: right;\">\n",
              "      <th></th>\n",
              "      <th>abc</th>\n",
              "      <th>about</th>\n",
              "      <th>about the</th>\n",
              "      <th>accident</th>\n",
              "      <th>across</th>\n",
              "      <th>act</th>\n",
              "      <th>action</th>\n",
              "      <th>affected</th>\n",
              "      <th>after</th>\n",
              "      <th>after the</th>\n",
              "      <th>against</th>\n",
              "      <th>age</th>\n",
              "      <th>ago</th>\n",
              "      <th>air</th>\n",
              "      <th>airport</th>\n",
              "      <th>airport get</th>\n",
              "      <th>all</th>\n",
              "      <th>all the</th>\n",
              "      <th>almost</th>\n",
              "      <th>already</th>\n",
              "      <th>also</th>\n",
              "      <th>always</th>\n",
              "      <th>am</th>\n",
              "      <th>america</th>\n",
              "      <th>american</th>\n",
              "      <th>amp</th>\n",
              "      <th>an</th>\n",
              "      <th>and</th>\n",
              "      <th>and it</th>\n",
              "      <th>and that</th>\n",
              "      <th>and the</th>\n",
              "      <th>and you</th>\n",
              "      <th>animal</th>\n",
              "      <th>annihilated</th>\n",
              "      <th>anniversary</th>\n",
              "      <th>anniversary of</th>\n",
              "      <th>another</th>\n",
              "      <th>anthrax</th>\n",
              "      <th>anthrax lab</th>\n",
              "      <th>any</th>\n",
              "      <th>...</th>\n",
              "      <th>white</th>\n",
              "      <th>who</th>\n",
              "      <th>whole</th>\n",
              "      <th>why</th>\n",
              "      <th>wild</th>\n",
              "      <th>wild fire</th>\n",
              "      <th>wildfire</th>\n",
              "      <th>will</th>\n",
              "      <th>will be</th>\n",
              "      <th>win</th>\n",
              "      <th>wind</th>\n",
              "      <th>windstorm</th>\n",
              "      <th>with</th>\n",
              "      <th>with the</th>\n",
              "      <th>without</th>\n",
              "      <th>woman</th>\n",
              "      <th>won</th>\n",
              "      <th>word</th>\n",
              "      <th>work</th>\n",
              "      <th>world</th>\n",
              "      <th>would</th>\n",
              "      <th>would be</th>\n",
              "      <th>would have</th>\n",
              "      <th>wound</th>\n",
              "      <th>wow</th>\n",
              "      <th>wreck</th>\n",
              "      <th>wrecked</th>\n",
              "      <th>writer</th>\n",
              "      <th>wrought</th>\n",
              "      <th>year</th>\n",
              "      <th>year after</th>\n",
              "      <th>yet</th>\n",
              "      <th>yo</th>\n",
              "      <th>you</th>\n",
              "      <th>you are</th>\n",
              "      <th>you can</th>\n",
              "      <th>you re</th>\n",
              "      <th>your</th>\n",
              "      <th>yours</th>\n",
              "      <th>yr</th>\n",
              "    </tr>\n",
              "  </thead>\n",
              "  <tbody>\n",
              "    <tr>\n",
              "      <th>count</th>\n",
              "      <td>694.000000</td>\n",
              "      <td>694.000000</td>\n",
              "      <td>694.000000</td>\n",
              "      <td>694.000000</td>\n",
              "      <td>694.000000</td>\n",
              "      <td>694.000000</td>\n",
              "      <td>694.000000</td>\n",
              "      <td>694.000000</td>\n",
              "      <td>694.000000</td>\n",
              "      <td>694.000000</td>\n",
              "      <td>694.000000</td>\n",
              "      <td>694.000000</td>\n",
              "      <td>694.000000</td>\n",
              "      <td>694.000000</td>\n",
              "      <td>694.000000</td>\n",
              "      <td>694.000000</td>\n",
              "      <td>694.000000</td>\n",
              "      <td>694.000000</td>\n",
              "      <td>694.000000</td>\n",
              "      <td>694.000000</td>\n",
              "      <td>694.000000</td>\n",
              "      <td>694.000000</td>\n",
              "      <td>694.000000</td>\n",
              "      <td>694.000000</td>\n",
              "      <td>694.000000</td>\n",
              "      <td>694.000000</td>\n",
              "      <td>694.000000</td>\n",
              "      <td>694.000000</td>\n",
              "      <td>694.000000</td>\n",
              "      <td>694.000000</td>\n",
              "      <td>694.000000</td>\n",
              "      <td>694.000000</td>\n",
              "      <td>694.000000</td>\n",
              "      <td>694.000000</td>\n",
              "      <td>694.000000</td>\n",
              "      <td>694.000000</td>\n",
              "      <td>694.000000</td>\n",
              "      <td>694.000000</td>\n",
              "      <td>694.000000</td>\n",
              "      <td>694.000000</td>\n",
              "      <td>...</td>\n",
              "      <td>694.000000</td>\n",
              "      <td>694.000000</td>\n",
              "      <td>694.000000</td>\n",
              "      <td>694.000000</td>\n",
              "      <td>694.000000</td>\n",
              "      <td>694.000000</td>\n",
              "      <td>694.000000</td>\n",
              "      <td>694.000000</td>\n",
              "      <td>694.000000</td>\n",
              "      <td>694.000000</td>\n",
              "      <td>694.000000</td>\n",
              "      <td>694.000000</td>\n",
              "      <td>694.000000</td>\n",
              "      <td>694.000000</td>\n",
              "      <td>694.000000</td>\n",
              "      <td>694.000000</td>\n",
              "      <td>694.000000</td>\n",
              "      <td>694.000000</td>\n",
              "      <td>694.000000</td>\n",
              "      <td>694.000000</td>\n",
              "      <td>694.000000</td>\n",
              "      <td>694.000000</td>\n",
              "      <td>694.000000</td>\n",
              "      <td>694.000000</td>\n",
              "      <td>694.000000</td>\n",
              "      <td>694.000000</td>\n",
              "      <td>694.000000</td>\n",
              "      <td>694.000000</td>\n",
              "      <td>694.000000</td>\n",
              "      <td>694.000000</td>\n",
              "      <td>694.00000</td>\n",
              "      <td>694.000000</td>\n",
              "      <td>694.000000</td>\n",
              "      <td>694.000000</td>\n",
              "      <td>694.000000</td>\n",
              "      <td>694.000000</td>\n",
              "      <td>694.000000</td>\n",
              "      <td>694.000000</td>\n",
              "      <td>694.000000</td>\n",
              "      <td>694.000000</td>\n",
              "    </tr>\n",
              "    <tr>\n",
              "      <th>mean</th>\n",
              "      <td>0.001087</td>\n",
              "      <td>0.007783</td>\n",
              "      <td>0.002641</td>\n",
              "      <td>0.001579</td>\n",
              "      <td>0.002176</td>\n",
              "      <td>0.002840</td>\n",
              "      <td>0.001428</td>\n",
              "      <td>0.001531</td>\n",
              "      <td>0.007478</td>\n",
              "      <td>0.001197</td>\n",
              "      <td>0.001969</td>\n",
              "      <td>0.000982</td>\n",
              "      <td>0.001244</td>\n",
              "      <td>0.001893</td>\n",
              "      <td>0.001731</td>\n",
              "      <td>0.001731</td>\n",
              "      <td>0.008163</td>\n",
              "      <td>0.001709</td>\n",
              "      <td>0.001615</td>\n",
              "      <td>0.001421</td>\n",
              "      <td>0.001160</td>\n",
              "      <td>0.002918</td>\n",
              "      <td>0.002662</td>\n",
              "      <td>0.001312</td>\n",
              "      <td>0.002630</td>\n",
              "      <td>0.006125</td>\n",
              "      <td>0.009497</td>\n",
              "      <td>0.033373</td>\n",
              "      <td>0.001442</td>\n",
              "      <td>0.000983</td>\n",
              "      <td>0.003490</td>\n",
              "      <td>0.001504</td>\n",
              "      <td>0.001748</td>\n",
              "      <td>0.001528</td>\n",
              "      <td>0.001020</td>\n",
              "      <td>0.001020</td>\n",
              "      <td>0.001847</td>\n",
              "      <td>0.000864</td>\n",
              "      <td>0.000864</td>\n",
              "      <td>0.003461</td>\n",
              "      <td>...</td>\n",
              "      <td>0.001430</td>\n",
              "      <td>0.006346</td>\n",
              "      <td>0.002149</td>\n",
              "      <td>0.004568</td>\n",
              "      <td>0.002319</td>\n",
              "      <td>0.001776</td>\n",
              "      <td>0.002970</td>\n",
              "      <td>0.006586</td>\n",
              "      <td>0.001709</td>\n",
              "      <td>0.002293</td>\n",
              "      <td>0.003631</td>\n",
              "      <td>0.002603</td>\n",
              "      <td>0.013929</td>\n",
              "      <td>0.002363</td>\n",
              "      <td>0.002817</td>\n",
              "      <td>0.002026</td>\n",
              "      <td>0.001756</td>\n",
              "      <td>0.001826</td>\n",
              "      <td>0.002981</td>\n",
              "      <td>0.005684</td>\n",
              "      <td>0.004817</td>\n",
              "      <td>0.001518</td>\n",
              "      <td>0.001277</td>\n",
              "      <td>0.002276</td>\n",
              "      <td>0.001959</td>\n",
              "      <td>0.004279</td>\n",
              "      <td>0.001884</td>\n",
              "      <td>0.001632</td>\n",
              "      <td>0.000966</td>\n",
              "      <td>0.003817</td>\n",
              "      <td>0.00107</td>\n",
              "      <td>0.002392</td>\n",
              "      <td>0.002057</td>\n",
              "      <td>0.018101</td>\n",
              "      <td>0.001267</td>\n",
              "      <td>0.001214</td>\n",
              "      <td>0.001784</td>\n",
              "      <td>0.005900</td>\n",
              "      <td>0.001428</td>\n",
              "      <td>0.001317</td>\n",
              "    </tr>\n",
              "    <tr>\n",
              "      <th>std</th>\n",
              "      <td>0.016541</td>\n",
              "      <td>0.042854</td>\n",
              "      <td>0.028729</td>\n",
              "      <td>0.020988</td>\n",
              "      <td>0.028993</td>\n",
              "      <td>0.031575</td>\n",
              "      <td>0.021804</td>\n",
              "      <td>0.021600</td>\n",
              "      <td>0.042488</td>\n",
              "      <td>0.018250</td>\n",
              "      <td>0.027748</td>\n",
              "      <td>0.015475</td>\n",
              "      <td>0.019063</td>\n",
              "      <td>0.028920</td>\n",
              "      <td>0.020334</td>\n",
              "      <td>0.020334</td>\n",
              "      <td>0.042751</td>\n",
              "      <td>0.020430</td>\n",
              "      <td>0.025365</td>\n",
              "      <td>0.021732</td>\n",
              "      <td>0.017759</td>\n",
              "      <td>0.027281</td>\n",
              "      <td>0.026996</td>\n",
              "      <td>0.020299</td>\n",
              "      <td>0.025309</td>\n",
              "      <td>0.041560</td>\n",
              "      <td>0.052709</td>\n",
              "      <td>0.072576</td>\n",
              "      <td>0.022203</td>\n",
              "      <td>0.015362</td>\n",
              "      <td>0.035025</td>\n",
              "      <td>0.019953</td>\n",
              "      <td>0.026821</td>\n",
              "      <td>0.023358</td>\n",
              "      <td>0.015941</td>\n",
              "      <td>0.015941</td>\n",
              "      <td>0.021789</td>\n",
              "      <td>0.013152</td>\n",
              "      <td>0.013152</td>\n",
              "      <td>0.029777</td>\n",
              "      <td>...</td>\n",
              "      <td>0.021996</td>\n",
              "      <td>0.040274</td>\n",
              "      <td>0.026742</td>\n",
              "      <td>0.039812</td>\n",
              "      <td>0.025369</td>\n",
              "      <td>0.023677</td>\n",
              "      <td>0.028290</td>\n",
              "      <td>0.039246</td>\n",
              "      <td>0.022906</td>\n",
              "      <td>0.031254</td>\n",
              "      <td>0.028996</td>\n",
              "      <td>0.031187</td>\n",
              "      <td>0.050221</td>\n",
              "      <td>0.025677</td>\n",
              "      <td>0.030940</td>\n",
              "      <td>0.027396</td>\n",
              "      <td>0.023707</td>\n",
              "      <td>0.024491</td>\n",
              "      <td>0.028723</td>\n",
              "      <td>0.036557</td>\n",
              "      <td>0.036791</td>\n",
              "      <td>0.020195</td>\n",
              "      <td>0.019960</td>\n",
              "      <td>0.031299</td>\n",
              "      <td>0.027870</td>\n",
              "      <td>0.047743</td>\n",
              "      <td>0.031525</td>\n",
              "      <td>0.021882</td>\n",
              "      <td>0.014903</td>\n",
              "      <td>0.031218</td>\n",
              "      <td>0.01697</td>\n",
              "      <td>0.029216</td>\n",
              "      <td>0.032680</td>\n",
              "      <td>0.066153</td>\n",
              "      <td>0.017091</td>\n",
              "      <td>0.018586</td>\n",
              "      <td>0.025147</td>\n",
              "      <td>0.038349</td>\n",
              "      <td>0.023380</td>\n",
              "      <td>0.017725</td>\n",
              "    </tr>\n",
              "    <tr>\n",
              "      <th>min</th>\n",
              "      <td>0.000000</td>\n",
              "      <td>0.000000</td>\n",
              "      <td>0.000000</td>\n",
              "      <td>0.000000</td>\n",
              "      <td>0.000000</td>\n",
              "      <td>0.000000</td>\n",
              "      <td>0.000000</td>\n",
              "      <td>0.000000</td>\n",
              "      <td>0.000000</td>\n",
              "      <td>0.000000</td>\n",
              "      <td>0.000000</td>\n",
              "      <td>0.000000</td>\n",
              "      <td>0.000000</td>\n",
              "      <td>0.000000</td>\n",
              "      <td>0.000000</td>\n",
              "      <td>0.000000</td>\n",
              "      <td>0.000000</td>\n",
              "      <td>0.000000</td>\n",
              "      <td>0.000000</td>\n",
              "      <td>0.000000</td>\n",
              "      <td>0.000000</td>\n",
              "      <td>0.000000</td>\n",
              "      <td>0.000000</td>\n",
              "      <td>0.000000</td>\n",
              "      <td>0.000000</td>\n",
              "      <td>0.000000</td>\n",
              "      <td>0.000000</td>\n",
              "      <td>0.000000</td>\n",
              "      <td>0.000000</td>\n",
              "      <td>0.000000</td>\n",
              "      <td>0.000000</td>\n",
              "      <td>0.000000</td>\n",
              "      <td>0.000000</td>\n",
              "      <td>0.000000</td>\n",
              "      <td>0.000000</td>\n",
              "      <td>0.000000</td>\n",
              "      <td>0.000000</td>\n",
              "      <td>0.000000</td>\n",
              "      <td>0.000000</td>\n",
              "      <td>0.000000</td>\n",
              "      <td>...</td>\n",
              "      <td>0.000000</td>\n",
              "      <td>0.000000</td>\n",
              "      <td>0.000000</td>\n",
              "      <td>0.000000</td>\n",
              "      <td>0.000000</td>\n",
              "      <td>0.000000</td>\n",
              "      <td>0.000000</td>\n",
              "      <td>0.000000</td>\n",
              "      <td>0.000000</td>\n",
              "      <td>0.000000</td>\n",
              "      <td>0.000000</td>\n",
              "      <td>0.000000</td>\n",
              "      <td>0.000000</td>\n",
              "      <td>0.000000</td>\n",
              "      <td>0.000000</td>\n",
              "      <td>0.000000</td>\n",
              "      <td>0.000000</td>\n",
              "      <td>0.000000</td>\n",
              "      <td>0.000000</td>\n",
              "      <td>0.000000</td>\n",
              "      <td>0.000000</td>\n",
              "      <td>0.000000</td>\n",
              "      <td>0.000000</td>\n",
              "      <td>0.000000</td>\n",
              "      <td>0.000000</td>\n",
              "      <td>0.000000</td>\n",
              "      <td>0.000000</td>\n",
              "      <td>0.000000</td>\n",
              "      <td>0.000000</td>\n",
              "      <td>0.000000</td>\n",
              "      <td>0.00000</td>\n",
              "      <td>0.000000</td>\n",
              "      <td>0.000000</td>\n",
              "      <td>0.000000</td>\n",
              "      <td>0.000000</td>\n",
              "      <td>0.000000</td>\n",
              "      <td>0.000000</td>\n",
              "      <td>0.000000</td>\n",
              "      <td>0.000000</td>\n",
              "      <td>0.000000</td>\n",
              "    </tr>\n",
              "    <tr>\n",
              "      <th>25%</th>\n",
              "      <td>0.000000</td>\n",
              "      <td>0.000000</td>\n",
              "      <td>0.000000</td>\n",
              "      <td>0.000000</td>\n",
              "      <td>0.000000</td>\n",
              "      <td>0.000000</td>\n",
              "      <td>0.000000</td>\n",
              "      <td>0.000000</td>\n",
              "      <td>0.000000</td>\n",
              "      <td>0.000000</td>\n",
              "      <td>0.000000</td>\n",
              "      <td>0.000000</td>\n",
              "      <td>0.000000</td>\n",
              "      <td>0.000000</td>\n",
              "      <td>0.000000</td>\n",
              "      <td>0.000000</td>\n",
              "      <td>0.000000</td>\n",
              "      <td>0.000000</td>\n",
              "      <td>0.000000</td>\n",
              "      <td>0.000000</td>\n",
              "      <td>0.000000</td>\n",
              "      <td>0.000000</td>\n",
              "      <td>0.000000</td>\n",
              "      <td>0.000000</td>\n",
              "      <td>0.000000</td>\n",
              "      <td>0.000000</td>\n",
              "      <td>0.000000</td>\n",
              "      <td>0.000000</td>\n",
              "      <td>0.000000</td>\n",
              "      <td>0.000000</td>\n",
              "      <td>0.000000</td>\n",
              "      <td>0.000000</td>\n",
              "      <td>0.000000</td>\n",
              "      <td>0.000000</td>\n",
              "      <td>0.000000</td>\n",
              "      <td>0.000000</td>\n",
              "      <td>0.000000</td>\n",
              "      <td>0.000000</td>\n",
              "      <td>0.000000</td>\n",
              "      <td>0.000000</td>\n",
              "      <td>...</td>\n",
              "      <td>0.000000</td>\n",
              "      <td>0.000000</td>\n",
              "      <td>0.000000</td>\n",
              "      <td>0.000000</td>\n",
              "      <td>0.000000</td>\n",
              "      <td>0.000000</td>\n",
              "      <td>0.000000</td>\n",
              "      <td>0.000000</td>\n",
              "      <td>0.000000</td>\n",
              "      <td>0.000000</td>\n",
              "      <td>0.000000</td>\n",
              "      <td>0.000000</td>\n",
              "      <td>0.000000</td>\n",
              "      <td>0.000000</td>\n",
              "      <td>0.000000</td>\n",
              "      <td>0.000000</td>\n",
              "      <td>0.000000</td>\n",
              "      <td>0.000000</td>\n",
              "      <td>0.000000</td>\n",
              "      <td>0.000000</td>\n",
              "      <td>0.000000</td>\n",
              "      <td>0.000000</td>\n",
              "      <td>0.000000</td>\n",
              "      <td>0.000000</td>\n",
              "      <td>0.000000</td>\n",
              "      <td>0.000000</td>\n",
              "      <td>0.000000</td>\n",
              "      <td>0.000000</td>\n",
              "      <td>0.000000</td>\n",
              "      <td>0.000000</td>\n",
              "      <td>0.00000</td>\n",
              "      <td>0.000000</td>\n",
              "      <td>0.000000</td>\n",
              "      <td>0.000000</td>\n",
              "      <td>0.000000</td>\n",
              "      <td>0.000000</td>\n",
              "      <td>0.000000</td>\n",
              "      <td>0.000000</td>\n",
              "      <td>0.000000</td>\n",
              "      <td>0.000000</td>\n",
              "    </tr>\n",
              "    <tr>\n",
              "      <th>50%</th>\n",
              "      <td>0.000000</td>\n",
              "      <td>0.000000</td>\n",
              "      <td>0.000000</td>\n",
              "      <td>0.000000</td>\n",
              "      <td>0.000000</td>\n",
              "      <td>0.000000</td>\n",
              "      <td>0.000000</td>\n",
              "      <td>0.000000</td>\n",
              "      <td>0.000000</td>\n",
              "      <td>0.000000</td>\n",
              "      <td>0.000000</td>\n",
              "      <td>0.000000</td>\n",
              "      <td>0.000000</td>\n",
              "      <td>0.000000</td>\n",
              "      <td>0.000000</td>\n",
              "      <td>0.000000</td>\n",
              "      <td>0.000000</td>\n",
              "      <td>0.000000</td>\n",
              "      <td>0.000000</td>\n",
              "      <td>0.000000</td>\n",
              "      <td>0.000000</td>\n",
              "      <td>0.000000</td>\n",
              "      <td>0.000000</td>\n",
              "      <td>0.000000</td>\n",
              "      <td>0.000000</td>\n",
              "      <td>0.000000</td>\n",
              "      <td>0.000000</td>\n",
              "      <td>0.000000</td>\n",
              "      <td>0.000000</td>\n",
              "      <td>0.000000</td>\n",
              "      <td>0.000000</td>\n",
              "      <td>0.000000</td>\n",
              "      <td>0.000000</td>\n",
              "      <td>0.000000</td>\n",
              "      <td>0.000000</td>\n",
              "      <td>0.000000</td>\n",
              "      <td>0.000000</td>\n",
              "      <td>0.000000</td>\n",
              "      <td>0.000000</td>\n",
              "      <td>0.000000</td>\n",
              "      <td>...</td>\n",
              "      <td>0.000000</td>\n",
              "      <td>0.000000</td>\n",
              "      <td>0.000000</td>\n",
              "      <td>0.000000</td>\n",
              "      <td>0.000000</td>\n",
              "      <td>0.000000</td>\n",
              "      <td>0.000000</td>\n",
              "      <td>0.000000</td>\n",
              "      <td>0.000000</td>\n",
              "      <td>0.000000</td>\n",
              "      <td>0.000000</td>\n",
              "      <td>0.000000</td>\n",
              "      <td>0.000000</td>\n",
              "      <td>0.000000</td>\n",
              "      <td>0.000000</td>\n",
              "      <td>0.000000</td>\n",
              "      <td>0.000000</td>\n",
              "      <td>0.000000</td>\n",
              "      <td>0.000000</td>\n",
              "      <td>0.000000</td>\n",
              "      <td>0.000000</td>\n",
              "      <td>0.000000</td>\n",
              "      <td>0.000000</td>\n",
              "      <td>0.000000</td>\n",
              "      <td>0.000000</td>\n",
              "      <td>0.000000</td>\n",
              "      <td>0.000000</td>\n",
              "      <td>0.000000</td>\n",
              "      <td>0.000000</td>\n",
              "      <td>0.000000</td>\n",
              "      <td>0.00000</td>\n",
              "      <td>0.000000</td>\n",
              "      <td>0.000000</td>\n",
              "      <td>0.000000</td>\n",
              "      <td>0.000000</td>\n",
              "      <td>0.000000</td>\n",
              "      <td>0.000000</td>\n",
              "      <td>0.000000</td>\n",
              "      <td>0.000000</td>\n",
              "      <td>0.000000</td>\n",
              "    </tr>\n",
              "    <tr>\n",
              "      <th>75%</th>\n",
              "      <td>0.000000</td>\n",
              "      <td>0.000000</td>\n",
              "      <td>0.000000</td>\n",
              "      <td>0.000000</td>\n",
              "      <td>0.000000</td>\n",
              "      <td>0.000000</td>\n",
              "      <td>0.000000</td>\n",
              "      <td>0.000000</td>\n",
              "      <td>0.000000</td>\n",
              "      <td>0.000000</td>\n",
              "      <td>0.000000</td>\n",
              "      <td>0.000000</td>\n",
              "      <td>0.000000</td>\n",
              "      <td>0.000000</td>\n",
              "      <td>0.000000</td>\n",
              "      <td>0.000000</td>\n",
              "      <td>0.000000</td>\n",
              "      <td>0.000000</td>\n",
              "      <td>0.000000</td>\n",
              "      <td>0.000000</td>\n",
              "      <td>0.000000</td>\n",
              "      <td>0.000000</td>\n",
              "      <td>0.000000</td>\n",
              "      <td>0.000000</td>\n",
              "      <td>0.000000</td>\n",
              "      <td>0.000000</td>\n",
              "      <td>0.000000</td>\n",
              "      <td>0.000000</td>\n",
              "      <td>0.000000</td>\n",
              "      <td>0.000000</td>\n",
              "      <td>0.000000</td>\n",
              "      <td>0.000000</td>\n",
              "      <td>0.000000</td>\n",
              "      <td>0.000000</td>\n",
              "      <td>0.000000</td>\n",
              "      <td>0.000000</td>\n",
              "      <td>0.000000</td>\n",
              "      <td>0.000000</td>\n",
              "      <td>0.000000</td>\n",
              "      <td>0.000000</td>\n",
              "      <td>...</td>\n",
              "      <td>0.000000</td>\n",
              "      <td>0.000000</td>\n",
              "      <td>0.000000</td>\n",
              "      <td>0.000000</td>\n",
              "      <td>0.000000</td>\n",
              "      <td>0.000000</td>\n",
              "      <td>0.000000</td>\n",
              "      <td>0.000000</td>\n",
              "      <td>0.000000</td>\n",
              "      <td>0.000000</td>\n",
              "      <td>0.000000</td>\n",
              "      <td>0.000000</td>\n",
              "      <td>0.000000</td>\n",
              "      <td>0.000000</td>\n",
              "      <td>0.000000</td>\n",
              "      <td>0.000000</td>\n",
              "      <td>0.000000</td>\n",
              "      <td>0.000000</td>\n",
              "      <td>0.000000</td>\n",
              "      <td>0.000000</td>\n",
              "      <td>0.000000</td>\n",
              "      <td>0.000000</td>\n",
              "      <td>0.000000</td>\n",
              "      <td>0.000000</td>\n",
              "      <td>0.000000</td>\n",
              "      <td>0.000000</td>\n",
              "      <td>0.000000</td>\n",
              "      <td>0.000000</td>\n",
              "      <td>0.000000</td>\n",
              "      <td>0.000000</td>\n",
              "      <td>0.00000</td>\n",
              "      <td>0.000000</td>\n",
              "      <td>0.000000</td>\n",
              "      <td>0.000000</td>\n",
              "      <td>0.000000</td>\n",
              "      <td>0.000000</td>\n",
              "      <td>0.000000</td>\n",
              "      <td>0.000000</td>\n",
              "      <td>0.000000</td>\n",
              "      <td>0.000000</td>\n",
              "    </tr>\n",
              "    <tr>\n",
              "      <th>max</th>\n",
              "      <td>0.272619</td>\n",
              "      <td>0.305151</td>\n",
              "      <td>0.390701</td>\n",
              "      <td>0.344331</td>\n",
              "      <td>0.469702</td>\n",
              "      <td>0.486463</td>\n",
              "      <td>0.356177</td>\n",
              "      <td>0.427037</td>\n",
              "      <td>0.339119</td>\n",
              "      <td>0.303313</td>\n",
              "      <td>0.543434</td>\n",
              "      <td>0.302800</td>\n",
              "      <td>0.326089</td>\n",
              "      <td>0.504394</td>\n",
              "      <td>0.240260</td>\n",
              "      <td>0.240260</td>\n",
              "      <td>0.452865</td>\n",
              "      <td>0.313066</td>\n",
              "      <td>0.489256</td>\n",
              "      <td>0.368921</td>\n",
              "      <td>0.311112</td>\n",
              "      <td>0.312544</td>\n",
              "      <td>0.335933</td>\n",
              "      <td>0.375780</td>\n",
              "      <td>0.351683</td>\n",
              "      <td>0.402141</td>\n",
              "      <td>0.599112</td>\n",
              "      <td>0.485640</td>\n",
              "      <td>0.397274</td>\n",
              "      <td>0.266952</td>\n",
              "      <td>0.526555</td>\n",
              "      <td>0.298330</td>\n",
              "      <td>0.480907</td>\n",
              "      <td>0.389150</td>\n",
              "      <td>0.317342</td>\n",
              "      <td>0.317342</td>\n",
              "      <td>0.276861</td>\n",
              "      <td>0.212979</td>\n",
              "      <td>0.212979</td>\n",
              "      <td>0.379483</td>\n",
              "      <td>...</td>\n",
              "      <td>0.381017</td>\n",
              "      <td>0.379986</td>\n",
              "      <td>0.485699</td>\n",
              "      <td>0.568831</td>\n",
              "      <td>0.352980</td>\n",
              "      <td>0.374196</td>\n",
              "      <td>0.351451</td>\n",
              "      <td>0.332745</td>\n",
              "      <td>0.354769</td>\n",
              "      <td>0.576717</td>\n",
              "      <td>0.295794</td>\n",
              "      <td>0.431317</td>\n",
              "      <td>0.326141</td>\n",
              "      <td>0.346390</td>\n",
              "      <td>0.458996</td>\n",
              "      <td>0.489441</td>\n",
              "      <td>0.427586</td>\n",
              "      <td>0.409611</td>\n",
              "      <td>0.416484</td>\n",
              "      <td>0.345138</td>\n",
              "      <td>0.506804</td>\n",
              "      <td>0.306905</td>\n",
              "      <td>0.395334</td>\n",
              "      <td>0.541036</td>\n",
              "      <td>0.576408</td>\n",
              "      <td>0.672628</td>\n",
              "      <td>0.720033</td>\n",
              "      <td>0.373871</td>\n",
              "      <td>0.280076</td>\n",
              "      <td>0.399045</td>\n",
              "      <td>0.35247</td>\n",
              "      <td>0.499859</td>\n",
              "      <td>0.680652</td>\n",
              "      <td>0.494246</td>\n",
              "      <td>0.284172</td>\n",
              "      <td>0.323726</td>\n",
              "      <td>0.507252</td>\n",
              "      <td>0.416408</td>\n",
              "      <td>0.516126</td>\n",
              "      <td>0.314272</td>\n",
              "    </tr>\n",
              "  </tbody>\n",
              "</table>\n",
              "<p>8 rows × 824 columns</p>\n",
              "</div>"
            ],
            "text/plain": [
              "              abc       about   about the  ...        your       yours          yr\n",
              "count  694.000000  694.000000  694.000000  ...  694.000000  694.000000  694.000000\n",
              "mean     0.001087    0.007783    0.002641  ...    0.005900    0.001428    0.001317\n",
              "std      0.016541    0.042854    0.028729  ...    0.038349    0.023380    0.017725\n",
              "min      0.000000    0.000000    0.000000  ...    0.000000    0.000000    0.000000\n",
              "25%      0.000000    0.000000    0.000000  ...    0.000000    0.000000    0.000000\n",
              "50%      0.000000    0.000000    0.000000  ...    0.000000    0.000000    0.000000\n",
              "75%      0.000000    0.000000    0.000000  ...    0.000000    0.000000    0.000000\n",
              "max      0.272619    0.305151    0.390701  ...    0.416408    0.516126    0.314272\n",
              "\n",
              "[8 rows x 824 columns]"
            ]
          },
          "metadata": {
            "tags": []
          },
          "execution_count": 19
        }
      ]
    },
    {
      "cell_type": "code",
      "metadata": {
        "id": "tId2lrCuNIhW",
        "colab_type": "code",
        "colab": {}
      },
      "source": [
        ""
      ],
      "execution_count": 0,
      "outputs": []
    },
    {
      "cell_type": "code",
      "metadata": {
        "id": "VFTbm04lNIhZ",
        "colab_type": "code",
        "colab": {}
      },
      "source": [
        "# Splitting the dataset into the Training set and Test set\n",
        "from sklearn.model_selection import train_test_split\n",
        "X_train, X_test, y_train, y_test = train_test_split(X, y, test_size = 0.20, random_state = 0)"
      ],
      "execution_count": 0,
      "outputs": []
    },
    {
      "cell_type": "markdown",
      "metadata": {
        "id": "5Koi4jL5NIjH",
        "colab_type": "text"
      },
      "source": [
        "# 3. Model Selection\n",
        "First, we want to use base model such as Guassian Naive Bayes and logisitic regression. After that I decided to use a ANN with a pre trained model with embedding layer. Finally, after select the final ANN model with embedding layer, I try the K force cross validation.   "
      ]
    },
    {
      "cell_type": "markdown",
      "metadata": {
        "id": "pVGl_c7cZSKe",
        "colab_type": "text"
      },
      "source": [
        "## 3.1 Model library to use"
      ]
    },
    {
      "cell_type": "code",
      "metadata": {
        "id": "AEunaVbiNIjK",
        "colab_type": "code",
        "colab": {}
      },
      "source": [
        "class Standardization():\n",
        "    \n",
        "    def __init__(self, X):\n",
        "        self.std = np.std(X, 0)\n",
        "        self.mean = np.mean(X, 0)\n",
        "    \n",
        "    def fit(self, X, eposilon = 1e-4):\n",
        "        X_ = X.copy()\n",
        "        X_ = (X_ - self.mean)/(self.std + eposilon)\n",
        "        return X_\n",
        "\n",
        "class MeanNormalization():\n",
        "    \n",
        "    def __init__(self, X):\n",
        "        self.max = np.max(X, 0)\n",
        "        self.min = np.min(X, 0)\n",
        "        self.mean = np.mean(X, 0)\n",
        "    \n",
        "    def fit(self, X, eposilon = 1e-4):\n",
        "        X_ = X.copy()\n",
        "        X_ = (X_ - self.mean)/(self.max - self.min + eposilon)\n",
        "        return X_\n",
        "\n",
        "class MaxMinNormalization():\n",
        "    \n",
        "    def __init__(self, X):\n",
        "        self.max = np.max(X, 0)\n",
        "        self.min = np.min(X, 0)\n",
        "    \n",
        "    def fit(self, X, eposilon = 1e-4):\n",
        "        X_ = X.copy()\n",
        "        X_ = (X_ - self.min)/(self.max - self.min + eposilon)\n",
        "        return X_"
      ],
      "execution_count": 0,
      "outputs": []
    },
    {
      "cell_type": "code",
      "metadata": {
        "id": "4LmkklPeNIjM",
        "colab_type": "code",
        "colab": {}
      },
      "source": [
        "# P values for sklearn logistic regression.\n",
        "\n",
        "# Class to display p-values for logistic regression in sklearn.\n",
        "\n",
        "from sklearn import linear_model\n",
        "import scipy.stats as stat\n",
        "\n",
        "class LogisticRegression_with_p_values:\n",
        "    \n",
        "    def __init__(self,*args,**kwargs):#,**kwargs):\n",
        "        self.model = linear_model.LogisticRegression(*args,**kwargs)#,**args)\n",
        "\n",
        "    def fit(self,X,y):\n",
        "        self.model.fit(X,y)\n",
        "        \n",
        "        #### Get p-values for the fitted model ####\n",
        "        denom = (2.0 * (1.0 + np.cosh(self.model.decision_function(X))))\n",
        "        denom = np.tile(denom,(X.shape[1],1)).T\n",
        "        F_ij = np.dot((X / denom).T,X) ## Fisher Information Matrix\n",
        "        Cramer_Rao = np.linalg.inv(F_ij) ## Inverse Information Matrix\n",
        "        sigma_estimates = np.sqrt(np.diagonal(Cramer_Rao))\n",
        "        z_scores = self.model.coef_[0] / sigma_estimates # z-score for eaach model coefficient\n",
        "        p_values = [stat.norm.sf(abs(x)) * 2 for x in z_scores] ### two tailed test for p-values\n",
        "        \n",
        "        self.coef_ = self.model.coef_\n",
        "        self.intercept_ = self.model.intercept_\n",
        "        self.p_values = p_values"
      ],
      "execution_count": 0,
      "outputs": []
    },
    {
      "cell_type": "code",
      "metadata": {
        "id": "jVdoBC5haFco",
        "colab_type": "code",
        "colab": {}
      },
      "source": [
        "class GenLogisticRegression():\n",
        "\n",
        "  #def _init_(self, thresh=0.5):\n",
        "  #  self.W = None\n",
        "  #  self.B = None\n",
        "\n",
        "  def _init_(self, thresh=0.5):\n",
        "    # self.W = np.random.randn(D,K)\n",
        "    # self.B = np.random.randn(K)\n",
        "    self.W = None\n",
        "    self.B = None\n",
        "\n",
        "  def fit(self, X, y, eta = 2e-2, epochs = 1e3, show_curve = False):\n",
        "    N,D = X.shape\n",
        "    epochs = int(epochs)\n",
        "    K = len(np.unique(y))\n",
        "\n",
        "    #y_values = np.unique(y, return_index = False)\n",
        "    Y = indices_to_one_hot(y,K).astype(int)\n",
        "\n",
        "    try:\n",
        "      self.W\n",
        "    except AttributeError:\n",
        "      self.W = np.random.randn(D,K)\n",
        "      self.B = np.random.randn(K)\n",
        "\n",
        "    J = np.zeros(int(epochs))\n",
        "\n",
        "    for epoch in range(epochs):\n",
        "      P_hat = self._forward_(X)\n",
        "      J[epoch] = cross_entropy(Y,P_hat)\n",
        "      self.W -= eta*(1/N)*X.T@(P_hat-Y)\n",
        "      self.B -= eta*(1/N)*np.sum(P_hat-Y, axis=0)\n",
        "\n",
        "    if show_curve:\n",
        "      plt.figure()\n",
        "      plt.plot(J)\n",
        "      plt.xlabel(\"epochs\")\n",
        "      plt.ylabel(\"J\")\n",
        "      plt.title(\"Training Curve\")\n",
        "      plt.show()\n",
        "\n",
        "  def _forward_(self, X):\n",
        "      return softmax(X@self.W + self.B)\n",
        "\n",
        "  def predict(self,X):\n",
        "      return np.argmax(self._forward_(X),axis=1)"
      ],
      "execution_count": 0,
      "outputs": []
    },
    {
      "cell_type": "code",
      "metadata": {
        "id": "S1q-2hC6aLlP",
        "colab_type": "code",
        "colab": {}
      },
      "source": [
        "def sigmoid(h, epsilon = 1e-5):\n",
        "    return 1/(1 + np.exp(-h + epsilon))\n",
        "\n",
        "def cross_entropy(y, p_hat, epsilon = 1e-3):\n",
        "    return -(1/len(y)) * np.sum(y * np.log(p_hat + epsilon)\\\n",
        "                                + (1- y) * np.log(1 - p_hat + epsilon))\n",
        "\n",
        "#def cross_entropy(Y, P_hat):\n",
        "#    return -(1/len(Y))*np.sum(np.sum(Y*np.log(P_hat), axis = 1), axis = 0)\n",
        "\n",
        "\n",
        "def weighted_cross_entropy(y, p_hat, eta = 1, epsilon = 1e-3):\n",
        "    pos_w = (1/len(y[y == 1]))*eta\n",
        "    neg_w = 1/len(y[y == 0])\n",
        "    pos = -pos_w*np.sum(y[y == 1] * np.log(p_hat[y == 1] + epsilon)\\\n",
        "                        +(1- y[y == 1]) * np.log(1 - p_hat[y == 1] + epsilon))\n",
        "    neg = -neg_w*np.sum(y[y == 0] * np.log(p_hat[y == 0] + epsilon)\\\n",
        "                        +(1- y[y == 0]) * np.log(1 - p_hat[y == 0] + epsilon))\n",
        "    return pos + neg\n",
        "                               \n",
        "def accuracy(y, y_hat):\n",
        "    return np.mean(y == y_hat)\n",
        "\n",
        "def cost(X, y, model, thresh):\n",
        "    # cost weights\n",
        "    fp = 10\n",
        "    fn = 500\n",
        "    # predict\n",
        "    y_hat_n = model.predict(X[y == 0], thresh = thresh)\n",
        "    y_hat_p = model.predict(X[y == 1], thresh = thresh)\n",
        "    # get cost\n",
        "    cost1 = fp*np.sum(y_hat_n == 1)\n",
        "    cost2 = fn*np.sum(y_hat_p == 0)\n",
        "    return cost1 + cost2\n",
        "\n",
        "def one_hot_encode(y):\n",
        "    N = len(y)\n",
        "    K = len(set(y))\n",
        "    Y = np.zeros((N,K))\n",
        "    \n",
        "    for i in range (N):\n",
        "        Y[i, y[i]] = 1\n",
        "    return Y    \n",
        "\n",
        "def indices_to_one_hot(data, nb_class):\n",
        "    \n",
        "    #coverts on iterable of indices to one hot labels\n",
        "    targets = np.array(data).reshape(-1)\n",
        "    return np.eye(nb_class)[targets]\n",
        "\n",
        "def softmax(h):\n",
        "    \n",
        "    return (np.exp(h.T)/np.sum(np.exp(h), axis =1)).T"
      ],
      "execution_count": 0,
      "outputs": []
    },
    {
      "cell_type": "code",
      "metadata": {
        "id": "9NbEO872NIjN",
        "colab_type": "code",
        "colab": {}
      },
      "source": [
        "def linear(H):\n",
        "    return H\n",
        "\n",
        "def ReLu(H):\n",
        "    return H*(H>0)\n",
        "\n",
        "def softmax(H):\n",
        "    eH = np.exp(H)\n",
        "    return eH/eH.sum(axis = 1, keepdims = True)\n",
        "\n",
        "def stable_softmax(H):\n",
        "    eH = np.exp(H - np.max(H))\n",
        "    return eH / eH.sum(axis = 1, keepdims = True)\n",
        "    \n",
        "\n",
        "def sigmoid(H):\n",
        "\n",
        "  return 1/(1 + np.exp(-H))\n",
        "\n",
        "\n",
        "# only works for 0 and 1\n",
        "#def cross_entropy (Y, p_hat):\n",
        "#    return -np.sum(Y*np.log(p_hat))\n",
        "# work for general case\n",
        "def cross_entropy(Y, p_hat):\n",
        "  return -(1/len(Y))*np.sum(Y*np.log(p_hat))\n",
        "\n",
        "def one_hot_encode(y):\n",
        "    N = len(y)\n",
        "    K = len(set(y))\n",
        "    Y = np.zeros((N,K))\n",
        "    \n",
        "    for i in range (N):\n",
        "        Y[i, y[i]] = 1\n",
        "    return Y\n",
        "\n",
        "def accuracy (y, y_hat):\n",
        "    return np.mean(y == y_hat)\n",
        "\n",
        "def OLS(Y, Y_hat):\n",
        "    return (1/(2*len(Y)))*np.sum((Y-Y_hat)**2)\n",
        "\n",
        "\n",
        "\n",
        "def weighted_cross_entropy(y, p_hat, epsilon = 1e-3):\n",
        "    pos_w = 1/len(y[y == 1])\n",
        "    neg_w = 1/len(y[y == 0])\n",
        "    pos = -pos_w*np.sum(y[y == 1] * np.log(p_hat[y == 1] + epsilon)\\\n",
        "                        +(1- y[y == 1]) * np.log(1 - p_hat[y == 1] + epsilon))\n",
        "    neg = -neg_w*np.sum(y[y == 0] * np.log(p_hat[y == 0] + epsilon)\\\n",
        "                        +(1- y[y == 0]) * np.log(1 - p_hat[y == 0] + epsilon))\n",
        "    return pos + neg\n",
        "\n",
        "\n",
        "def R2(y, y_hat):\n",
        "    return sqrt((y - y_hat)**2)\n",
        "\n",
        "def derivative(Z, a):\n",
        "  if a == \"linear\":\n",
        "    return 1\n",
        "  elif a == sigmoid :\n",
        "    return Z*(1-Z)\n",
        "  elif a==np.tanh :\n",
        "    return 1 - Z*Z\n",
        "  elif a == ReLu:\n",
        "    return (Z>0).astype(int)\n",
        "  else:\n",
        "    ValueError(\"Unknown activation\")"
      ],
      "execution_count": 0,
      "outputs": []
    },
    {
      "cell_type": "code",
      "metadata": {
        "id": "UVZlf6lfahcQ",
        "colab_type": "code",
        "colab": {}
      },
      "source": [
        "class ANN():\n",
        "\n",
        "  def __init__(self, architecture, activations = None, mode = 0):\n",
        "    self.mode = mode\n",
        "    self.architecture = architecture\n",
        "    self.L = len( architecture) +1\n",
        "    self.activations = activations\n",
        "\n",
        "  def fit(self, X, y, eta= 1e-3, epochs = 1e3, show_curve = False):\n",
        "    epochs = int(epochs)\n",
        "\n",
        "    if self.mode:\n",
        "      Y = y\n",
        "    else: \n",
        "      Y = one_hot_encode(y)\n",
        "    \n",
        "    N, D = X.shape\n",
        "    K = Y.shape[1]\n",
        "\n",
        "    self.W = {l: np.random.randn(M[0], M[1]) for l, M in enumerate(zip(([D]+self.architecture),(self.architecture + [K])), 1)}\n",
        "        \n",
        "    self.b = {l: np.random.randn(M) for l, M in enumerate(self.architecture + [K], 1)}\n",
        "\n",
        "    if self.activations is None:\n",
        "      self.a = {l: ReLu for l in range(1, self.L)}\n",
        "    else:\n",
        "      self.a = {l: act for l, act in enumerate(self.activations, 1)}\n",
        "\n",
        "    if self.mode:\n",
        "      self.a[self.L] = linear\n",
        "    else:\n",
        "      self.a[self.L] = softmax\n",
        "\n",
        "    J = np.zeros(epochs)\n",
        "\n",
        "    for epoch in range(epochs):\n",
        "      self.forward(X)\n",
        "\n",
        "      if self.mode:\n",
        "        J[epoch] = OLS(Y, self.Z[self.L]) \n",
        "      else:\n",
        "        J[epoch] = weighted_cross_entropy(Y, self.Z[self.L]) \n",
        "                    #cross_entropy(Y, self.Z[self.L])\n",
        "\n",
        "      dH = (1/N)*(self.Z[self.L] - Y)\n",
        "\n",
        "      for l in sorted(self.W.keys(), reverse= True):\n",
        "        dW = self.Z[l-1].T @ dH\n",
        "        db = dH.sum(axis = 0)\n",
        "        \n",
        "        self.W[l] -= eta*dW\n",
        "        self.b[l] -= eta*db\n",
        "\n",
        "        if l>1:\n",
        "          dZ = dH@(self.W[l]).T\n",
        "          dH = dZ*derivative(self.Z[l-1], self.a[l-1])\n",
        "       \n",
        "       # print out J errors every 100 iterations\n",
        "      if epoch % 100 == 0:\n",
        "          print ( epoch, J[epoch])\n",
        "\n",
        "          #print (\"Epoch:{}\".format(epoch))\n",
        "          #print (\"Train Error: {:.4f}\".format(dH) )\n",
        "          #print('Epoch:{}, train error: {:.4f} '.format(epoch , dH))\n",
        "    if show_curve:\n",
        "      plt.figure()\n",
        "      plt.plot(J)\n",
        "      plt.xlabel(\"epochs\")\n",
        "      plt.ylabel(\"Loss function\")\n",
        "      plt.show\n",
        "\n",
        "\n",
        "  def forward(self, X):\n",
        "    \n",
        "    self.Z ={0:X}\n",
        "\n",
        "    for l in sorted(self.W.keys()):\n",
        "      self.Z[l] = self.a[l](self.Z[l-1]@self.W[l]+ self.b[l] )\n",
        "  \n",
        "  def predict(self, X):\n",
        "\n",
        "    self.forward(X)\n",
        "\n",
        "    if self.mode:\n",
        "      return self.Z[self.L]\n",
        "    else:\n",
        "      return self.Z[self.L].argmax(axis = 1)"
      ],
      "execution_count": 0,
      "outputs": []
    },
    {
      "cell_type": "code",
      "metadata": {
        "id": "lHrwefZ5NIjQ",
        "colab_type": "code",
        "colab": {}
      },
      "source": [
        "'''Basic Logistic Regression'''\n",
        "\n",
        "class LogisticRegression():\n",
        "    \n",
        "    def __init__(self, size):\n",
        "        self.w = np.random.randn(size)\n",
        "        self.b = np.random.randn(1)\n",
        "    \n",
        "    def fit(self, X_trn, y_trn,\n",
        "            X_val, y_val,\n",
        "            lr = 1e-1, epochs = 1e3,\n",
        "            show_curve = False):\n",
        "        \n",
        "        epochs = int(epochs)\n",
        "        N, D = X_trn.shape\n",
        "        \n",
        "        J_trn = np.zeros(epochs) # train loss\n",
        "        J_val = np.zeros(epochs) # validation loss\n",
        "        \n",
        "        for epoch in range(epochs): # start to train\n",
        "            # get probability\n",
        "            p_hat = self.__forward(X_trn)\n",
        "            # record training process\n",
        "            J_trn[epoch] = cross_entropy(y_trn, p_hat)\n",
        "            J_val[epoch] = cross_entropy(y_val, self.__forward(X_val))\n",
        "            # weights update    \n",
        "            self.w -= lr*(1/N)*X_trn.T@(p_hat - y_trn)\n",
        "            self.b -= lr*(1/N)*np.sum(p_hat - y_trn)\n",
        "            # print progress\n",
        "            if epoch % 250 == 0:\n",
        "                print('Epoch: {}, train error: {:.4f}, valid error: {:.4f}'.\\\n",
        "                      format(epoch, J_trn[epoch], J_val[epoch]))\n",
        "        # plot curve\n",
        "        if show_curve:\n",
        "            plt.figure(figsize = (15, 6))\n",
        "            # train plot\n",
        "            plt.subplot(121); plt.plot(J_trn)\n",
        "            plt.xlabel('epochs'); plt.ylabel('$\\mathcal{J}$')\n",
        "            plt.title('Training Curve', fontsize = 15)\n",
        "            # valid plot\n",
        "            plt.subplot(122); plt.plot(J_val)\n",
        "            plt.xlabel('epochs'); plt.ylabel('$\\mathcal{J}$')\n",
        "            plt.title('Validation Curve', fontsize = 15)\n",
        "        # return training process\n",
        "        return {'J_trn': J_trn, 'J_val': J_val}\n",
        "    \n",
        "    def __forward(self, X):\n",
        "        return sigmoid(X@self.w + self.b)\n",
        "        \n",
        "    def predict(self, X, thresh = 0.5):\n",
        "        return (self.__forward(X) >= thresh).astype(np.int32)\n",
        "\n",
        "\n"
      ],
      "execution_count": 0,
      "outputs": []
    },
    {
      "cell_type": "code",
      "metadata": {
        "id": "zNomD71fbMPg",
        "colab_type": "code",
        "colab": {}
      },
      "source": [
        "class WeightedLogisticRegression(LogisticRegression):\n",
        "    '''Weighted Logistic Regression'''\n",
        "    # Assume positive: minority dataset\n",
        "    #        negative: majority dataset\n",
        "    # Weight more on positive dataset\n",
        "    # eta: control positive cases learning weights\n",
        "    #      1 is the default, < 1 reduce the weights, > 1 increase the weights\n",
        "    \n",
        "    def fit(self, X_trn, y_trn,\n",
        "            X_val, y_val,\n",
        "            eta = 1,                 # weight for positive dataset\n",
        "            lr = 1e-1, epochs = 1e3,\n",
        "            show_curve = False):\n",
        "        \n",
        "        epochs = int(epochs)\n",
        "        N, D = X_trn.shape\n",
        "        \n",
        "        J_trn = np.zeros(epochs) # train loss\n",
        "        J_val = np.zeros(epochs) # validation loss\n",
        "\n",
        "        for epoch in range(epochs): # start to train\n",
        "            # get probability for cross entropy\n",
        "            p_hat = self.__forward(X_trn)\n",
        "            # record training process\n",
        "            J_trn[epoch] = weighted_cross_entropy(y_trn, p_hat, eta = eta)\n",
        "            J_val[epoch] = weighted_cross_entropy(y_val, self.__forward(X_val), eta = eta)\n",
        "            # weights update\n",
        "            self.w -= lr*(eta*(1/len(y_trn[y_trn == 1]))*X_trn[y_trn == 1].T@(p_hat[y_trn == 1] - y_trn[y_trn == 1])+\\\n",
        "                          (1/len(y_trn[y_trn == 0]))*X_trn[y_trn == 0].T@(p_hat[y_trn == 0] - y_trn[y_trn == 0]))\n",
        "            \n",
        "            self.b -= lr*(eta*(1/len(y_trn[y_trn == 1]))*np.sum(p_hat[y_trn == 1] - y_trn[y_trn == 1])+\\\n",
        "                          (1/len(y_trn[y_trn == 0]))*np.sum(p_hat[y_trn == 0] - y_trn[y_trn == 0]))\n",
        "            # print progress\n",
        "            if epoch % 250 == 0:\n",
        "                print('Epoch: {}, train error: {:.4f}, validation error: {:.4f}'.\\\n",
        "                      format(epoch, J_trn[epoch], J_val[epoch]))\n",
        "        # plot curve\n",
        "        if show_curve:\n",
        "            plt.figure(figsize = (15, 6))\n",
        "            # train plot\n",
        "            plt.subplot(121); plt.plot(J_trn)\n",
        "            plt.xlabel('epochs'); plt.ylabel('$\\mathcal{J}$')\n",
        "            plt.title('Training Curve', fontsize = 15)\n",
        "            # valid plot\n",
        "            plt.subplot(122); plt.plot(J_val)\n",
        "            plt.xlabel('epochs'); plt.ylabel('$\\mathcal{J}$')\n",
        "            plt.title('Validation Curve', fontsize = 15)\n",
        "        # return training process\n",
        "        return {'J_trn': J_trn, 'J_val': J_val}\n",
        "    \n",
        "    def __forward(self, X):\n",
        "        return sigmoid(X@self.w + self.b)\n",
        "\n",
        "           "
      ],
      "execution_count": 0,
      "outputs": []
    },
    {
      "cell_type": "code",
      "metadata": {
        "id": "gouEt-CLNIjT",
        "colab_type": "code",
        "colab": {}
      },
      "source": [
        "\n",
        "''' Assistant Functions '''\n",
        "\n",
        "def weighted_cross_entropy(y, p_hat, eta = 1, epsilon = 1e-3):\n",
        "    pos_w = (1/len(y[y == 1]))*eta\n",
        "    neg_w = 1/len(y[y == 0])\n",
        "    pos = -pos_w*np.sum(y[y == 1] * np.log(p_hat[y == 1] + epsilon)\\\n",
        "                        +(1- y[y == 1]) * np.log(1 - p_hat[y == 1] + epsilon))\n",
        "    neg = -neg_w*np.sum(y[y == 0] * np.log(p_hat[y == 0] + epsilon)\\\n",
        "                        +(1- y[y == 0]) * np.log(1 - p_hat[y == 0] + epsilon))\n",
        "    return pos + neg    \n",
        "\n",
        "    "
      ],
      "execution_count": 0,
      "outputs": []
    },
    {
      "cell_type": "code",
      "metadata": {
        "id": "3PPRdwwxcIAQ",
        "colab_type": "code",
        "colab": {}
      },
      "source": [
        ""
      ],
      "execution_count": 0,
      "outputs": []
    },
    {
      "cell_type": "code",
      "metadata": {
        "id": "Yj3FCk1qNIja",
        "colab_type": "code",
        "colab": {}
      },
      "source": [
        "# Splitting the dataset into the Training set and Test set\n",
        "from sklearn.model_selection import train_test_split\n",
        "# Normalized\n",
        "y = y.astype(np.int)\n",
        "X_train, X_test, y_train, y_test = train_test_split(X, y, test_size = 0.2, random_state = 0)\n",
        "# Feature Scaling\n",
        "from sklearn.preprocessing import StandardScaler\n",
        "#sc = StandardScaler()\n",
        "#X_train = sc.fit_transform(X_train)\n",
        "#X_test = sc.transform(X_test)"
      ],
      "execution_count": 0,
      "outputs": []
    },
    {
      "cell_type": "code",
      "metadata": {
        "id": "mjPlH4BrNIjc",
        "colab_type": "code",
        "colab": {}
      },
      "source": [
        ""
      ],
      "execution_count": 0,
      "outputs": []
    },
    {
      "cell_type": "code",
      "metadata": {
        "id": "qSPgFfF0NIjf",
        "colab_type": "code",
        "colab": {}
      },
      "source": [
        ""
      ],
      "execution_count": 0,
      "outputs": []
    },
    {
      "cell_type": "markdown",
      "metadata": {
        "id": "idfRMjGXNIjg",
        "colab_type": "text"
      },
      "source": [
        "### 3.1. Gussian Naive Bayes and Logistic Regression w Smote"
      ]
    },
    {
      "cell_type": "code",
      "metadata": {
        "id": "7Veef54mNIjh",
        "colab_type": "code",
        "outputId": "01011a29-a2de-42c7-c89d-85ce7e977053",
        "colab": {
          "base_uri": "https://localhost:8080/",
          "height": 34
        }
      },
      "source": [
        "# Fitting Naive Bayes to the Training set\n",
        "from sklearn.naive_bayes import GaussianNB\n",
        "from imblearn.over_sampling import SMOTE\n",
        "\n",
        "#smt = SMOTE()\n",
        "#X_train_, y_train_ = smt.fit_resample(X_train, y_train)\n",
        "\n",
        "classifier = GaussianNB()\n",
        "classifier.fit(X_train, y_train)\n",
        "\n",
        "#classifier.fit(X_train_, y_train_)\n"
      ],
      "execution_count": 111,
      "outputs": [
        {
          "output_type": "execute_result",
          "data": {
            "text/plain": [
              "GaussianNB(priors=None, var_smoothing=1e-09)"
            ]
          },
          "metadata": {
            "tags": []
          },
          "execution_count": 111
        }
      ]
    },
    {
      "cell_type": "code",
      "metadata": {
        "id": "U4RA0y-hy-rE",
        "colab_type": "code",
        "colab": {
          "base_uri": "https://localhost:8080/",
          "height": 68
        },
        "outputId": "480436f5-0621-4b27-dbd3-9c42b4e8f11a"
      },
      "source": [
        "from sklearn.metrics import confusion_matrix\n",
        "y_hat = classifier.predict(X_test)\n",
        "\n",
        "cm = confusion_matrix(y_test, y_hat)\n",
        "print(cm)\n",
        "print (accuracy(y_test, y_hat))\n"
      ],
      "execution_count": 112,
      "outputs": [
        {
          "output_type": "stream",
          "text": [
            "[[105  10]\n",
            " [ 17   7]]\n",
            "0.8057553956834532\n"
          ],
          "name": "stdout"
        }
      ]
    },
    {
      "cell_type": "code",
      "metadata": {
        "id": "TbN8awF5zW5-",
        "colab_type": "code",
        "colab": {}
      },
      "source": [
        "from sklearn.decomposition import PCA\n",
        "\n",
        "def display_pca_scatterplot(model, words = None, sample = 0):\n",
        "  if words == None:\n",
        "    words.np.random.choice(list(model.vocab.keys()), sample)\n",
        "  else:\n",
        "    wrods = {word for word in model.vocab}\n",
        "  \n",
        "  word_vector = np.array([model[w] for w in words])\n",
        "  twodim = PCA().fit_transfrom(word_vectors)[:,:2]\n",
        "\n",
        "  plt.figure(figsize=(6,6))\n",
        "  plt.scatter(twodim[:,0], twodim[:,1], edgecolora='k', c='r')\n",
        "\n",
        "  for word, (x, y) in zip(words, twodim):\n",
        "    plt.text(x+0.05, y+0.05, word) \n"
      ],
      "execution_count": 0,
      "outputs": []
    },
    {
      "cell_type": "code",
      "metadata": {
        "id": "uyk0NoT14lex",
        "colab_type": "code",
        "colab": {
          "base_uri": "https://localhost:8080/",
          "height": 163
        },
        "outputId": "3e4a5f78-82b6-4b1d-89bf-49a50be86d8c"
      },
      "source": [
        "display_pca_scatterplot(cv)"
      ],
      "execution_count": 30,
      "outputs": [
        {
          "output_type": "error",
          "ename": "NameError",
          "evalue": "ignored",
          "traceback": [
            "\u001b[0;31m---------------------------------------------------------------------------\u001b[0m",
            "\u001b[0;31mNameError\u001b[0m                                 Traceback (most recent call last)",
            "\u001b[0;32m<ipython-input-30-c04c0ed2a01e>\u001b[0m in \u001b[0;36m<module>\u001b[0;34m()\u001b[0m\n\u001b[0;32m----> 1\u001b[0;31m \u001b[0mdisplay_pca_scatterplot\u001b[0m\u001b[0;34m(\u001b[0m\u001b[0mcv\u001b[0m\u001b[0;34m)\u001b[0m\u001b[0;34m\u001b[0m\u001b[0;34m\u001b[0m\u001b[0m\n\u001b[0m",
            "\u001b[0;31mNameError\u001b[0m: name 'cv' is not defined"
          ]
        }
      ]
    },
    {
      "cell_type": "code",
      "metadata": {
        "id": "TCQJTYMZNIjj",
        "colab_type": "code",
        "outputId": "1fcfcb9a-a289-45fa-aa31-4b70b996408f",
        "colab": {
          "base_uri": "https://localhost:8080/",
          "height": 312
        }
      },
      "source": [
        "# Fit the model\n",
        "# Initialize a generalized Logistic regression Model\n",
        "reg = GenLogisticRegression()\n",
        "\n",
        "reg.fit(X_train, y_train, eta = 0.01, epochs = 8000, show_curve=True)\n",
        "y_hat = reg.predict(X_test)\n",
        "accuracy(y_test, y_hat) \n"
      ],
      "execution_count": 126,
      "outputs": [
        {
          "output_type": "display_data",
          "data": {
            "image/png": "[encoded data removed]",
            "text/plain": [
              "<Figure size 432x288 with 1 Axes>"
            ]
          },
          "metadata": {
            "tags": []
          }
        },
        {
          "output_type": "execute_result",
          "data": {
            "text/plain": [
              "0.762589928057554"
            ]
          },
          "metadata": {
            "tags": []
          },
          "execution_count": 126
        }
      ]
    },
    {
      "cell_type": "code",
      "metadata": {
        "id": "RMrxDHgINIjn",
        "colab_type": "code",
        "outputId": "2bb9aeab-43fd-4a11-d386-a7d4648cb1ed",
        "colab": {
          "base_uri": "https://localhost:8080/",
          "height": 51
        }
      },
      "source": [
        "from sklearn.metrics import confusion_matrix\n",
        "cm = confusion_matrix(y_test, y_hat)\n",
        "cm"
      ],
      "execution_count": 128,
      "outputs": [
        {
          "output_type": "execute_result",
          "data": {
            "text/plain": [
              "array([[95, 20],\n",
              "       [13, 11]])"
            ]
          },
          "metadata": {
            "tags": []
          },
          "execution_count": 128
        }
      ]
    },
    {
      "cell_type": "code",
      "metadata": {
        "id": "Ho7VaCIsNIjo",
        "colab_type": "code",
        "outputId": "d29eaa34-db1e-4455-ba41-7f568d840e71",
        "colab": {
          "base_uri": "https://localhost:8080/",
          "height": 51
        }
      },
      "source": [
        "# Logistic regression from generalized logistic with SMOTE\n",
        "\n",
        "from imblearn.over_sampling import SMOTE\n",
        "\n",
        "reg = GenLogisticRegression()\n",
        "\n",
        "reg.fit(X_train, y_train)\n",
        "y_hat = reg.predict(X_test)\n",
        "\n",
        "weights = reg.W\n",
        "intercept = reg.B\n",
        "\n",
        "for i in range(5):\n",
        "  reg_ = GenLogisticRegression()\n",
        "  reg_.W = weights\n",
        "  reg_.B = intercept\n",
        "  smt = SMOTE()\n",
        "  X_train_, y_train_ = smt.fit_resample(X_train, y_train)\n",
        "  \n",
        "  reg_.fit(X_train_, y_train_, eta = 0.001, epochs = 10)\n",
        "\n",
        "\n",
        "  weights = reg_.W\n",
        "  intercept = reg_.B\n",
        "\n",
        "y_hat = reg_.predict(X_train)\n",
        "y_hat_test = reg_.predict(X_test)\n",
        "print (\"train accuray:\", np.mean(y_train == y_hat))\n",
        "print (\"test accuracy :\",  np.mean(y_test == y_hat_test))"
      ],
      "execution_count": 59,
      "outputs": [
        {
          "output_type": "stream",
          "text": [
            "train accuray: 0.6990990990990991\n",
            "test accuracy : 0.7122302158273381\n"
          ],
          "name": "stdout"
        }
      ]
    },
    {
      "cell_type": "code",
      "metadata": {
        "id": "SjCGf6kvNIjp",
        "colab_type": "code",
        "colab": {}
      },
      "source": [
        "from sklearn.metrics import confusion_matrix\n",
        "cm = confusion_matrix(y_test, y_hat_test)\n",
        "print(cm)"
      ],
      "execution_count": 0,
      "outputs": []
    },
    {
      "cell_type": "markdown",
      "metadata": {
        "id": "d05coUnwNIjr",
        "colab_type": "text"
      },
      "source": [
        "### 3.2. ANN with Smote, class weights and pre trained model"
      ]
    },
    {
      "cell_type": "code",
      "metadata": {
        "id": "Kw64dCKoNIjr",
        "colab_type": "code",
        "outputId": "f3e083f4-e4bb-4fcf-9f75-9e1f1121a448",
        "colab": {
          "base_uri": "https://localhost:8080/",
          "height": 636
        }
      },
      "source": [
        "from imblearn.under_sampling import NearMiss\n",
        "#nr = NearMiss()\n",
        "#X_train_, y_train_ = nr.fit_sample(X_train, y_train)\n",
        "\n",
        "ann = ANN([6,6,6 ], [np.tanh, np.tanh, np.tanh ] )\n",
        "ann.fit(X_train, y_train, eta = 0.02, epochs = 2000, show_curve = True)\n",
        "    \n",
        "y_hat = ann.predict(X_test)\n",
        "    \n",
        "print(f\"Test Accuracy: {accuracy(y_test, y_hat): 0.4f}\")"
      ],
      "execution_count": 129,
      "outputs": [
        {
          "output_type": "stream",
          "text": [
            "0 2.1620875675977236\n",
            "100 1.1277990311389547\n",
            "200 1.038352387579569\n",
            "300 1.0043458598473385\n",
            "400 0.9866751459166551\n",
            "500 0.9755918929825106\n",
            "600 0.9677618712358435\n",
            "700 0.9617869719978096\n",
            "800 0.9569293915131525\n",
            "900 0.9527615305738744\n",
            "1000 0.9490242989554281\n",
            "1100 0.9455534679997291\n",
            "1200 0.9422391654308022\n",
            "1300 0.9390038032683067\n",
            "1400 0.9357916045973504\n",
            "1500 0.9325654727903004\n",
            "1600 0.9293069219258406\n",
            "1700 0.9260133004040139\n",
            "1800 0.9226883648159174\n",
            "1900 0.9193303916743432\n",
            "Test Accuracy:  0.8129\n"
          ],
          "name": "stdout"
        },
        {
          "output_type": "display_data",
          "data": {
            "image/png": "[encoded data removed]",
            "text/plain": [
              "<Figure size 432x288 with 1 Axes>"
            ]
          },
          "metadata": {
            "tags": []
          }
        }
      ]
    },
    {
      "cell_type": "code",
      "metadata": {
        "id": "eyjykDTmNIjv",
        "colab_type": "code",
        "colab": {}
      },
      "source": [
        "# ANN with keep learning from previous runs with nearMiss or SMOTE every time (adding noise)\n",
        "\n",
        "from imblearn.over_sampling import SMOTE\n",
        "\n",
        "#reg = GenLogisticRegression()\n",
        "\n",
        "#reg.fit(X_train, y_train)\n",
        "#y_hat = reg.predict(test_X)\n",
        "from imblearn.under_sampling import NearMiss\n",
        "nr = NearMiss()\n",
        "X_train_, y_train_ = nr.fit_sample(X_train, y_train)\n",
        "ann = ANN([30,30,30, 30], [np.tanh, np.tanh, np.tanh, np.tanh] )\n",
        "ann.fit(X_train, y_train, eta = 0.01, epochs = 500, show_curve = True)\n",
        "\n",
        "weights = ann.W\n",
        "w0 = ann.b\n",
        "\n",
        "for i in range(50):\n",
        "  ann_ = ANN([30 ,30,30, 30], [np.tanh, np.tanh, np.tanh, np.tanh])\n",
        "\n",
        "  ann_.W = weights\n",
        "  ann_.b = w0 \n",
        "  #smt = SMOTE(random_state= i)\n",
        "  nr = NearMiss(random_state=i)\n",
        "  X_train_, y_train_ = nr.fit_sample(X_train, y_train)\n",
        "  #X_train_, y_train_ = smt.fit_resample(X_train, y_train)\n",
        "  \n",
        "  ann_.fit(X_train_, y_train_, eta = 0.1, epochs = 1000)\n",
        "\n",
        "  y_hat = ann_.predict(X_train)\n",
        "  y_hat_test = ann_.predict(X_test)\n",
        "  print (\"train accuray:\", np.mean(y_train == y_hat))\n",
        "  print (\"test accuracy :\",  np.mean(y_test == y_hat_test))\n",
        "  weights = ann_.W\n",
        "  w0 = ann_.b\n",
        "\n",
        "#y_hat = reg_.predict(X_train)\n",
        "#y_hat_test = reg_.predict(X_test)\n",
        "#print (\"train accuray:\", np.mean(y_train == y_hat))\n",
        "#print (\"test accuracy :\",  np.mean(y_test == y_hat_test))"
      ],
      "execution_count": 0,
      "outputs": []
    },
    {
      "cell_type": "code",
      "metadata": {
        "id": "giRzdqqY5msy",
        "colab_type": "code",
        "colab": {
          "base_uri": "https://localhost:8080/",
          "height": 510
        },
        "outputId": "2ffbd61a-f4f2-4ec7-81a6-69e11894ce0a"
      },
      "source": [
        "from __future__ import absolute_import, division, print_function, unicode_literals\n",
        "\n",
        "import numpy as np\n",
        "\n",
        "try:\n",
        "  # %tensorflow_version only exists in Colab.\n",
        "  %tensorflow_version 2.x\n",
        "except Exception:\n",
        "  pass\n",
        "import tensorflow as tf\n",
        "\n",
        "!pip install tensorflow-hub\n",
        "!pip install tfds-nightly\n",
        "import tensorflow_hub as hub\n",
        "import tensorflow_datasets as tfds\n",
        "\n",
        "print(\"Version: \", tf.__version__)\n",
        "print(\"Eager mode: \", tf.executing_eagerly())\n",
        "print(\"Hub version: \", hub.__version__)\n",
        "print(\"GPU is\", \"available\" if tf.config.experimental.list_physical_devices(\"GPU\") else \"NOT AVAILABLE\")"
      ],
      "execution_count": 11,
      "outputs": [
        {
          "output_type": "stream",
          "text": [
            "Requirement already satisfied: tensorflow-hub in /usr/local/lib/python3.6/dist-packages (0.7.0)\n",
            "Requirement already satisfied: six>=1.10.0 in /usr/local/lib/python3.6/dist-packages (from tensorflow-hub) (1.12.0)\n",
            "Requirement already satisfied: numpy>=1.12.0 in /usr/local/lib/python3.6/dist-packages (from tensorflow-hub) (1.18.2)\n",
            "Requirement already satisfied: protobuf>=3.4.0 in /usr/local/lib/python3.6/dist-packages (from tensorflow-hub) (3.10.0)\n",
            "Requirement already satisfied: setuptools in /usr/local/lib/python3.6/dist-packages (from protobuf>=3.4.0->tensorflow-hub) (46.0.0)\n",
            "Requirement already satisfied: tfds-nightly in /usr/local/lib/python3.6/dist-packages (2.1.0.dev202003300105)\n",
            "Requirement already satisfied: numpy in /usr/local/lib/python3.6/dist-packages (from tfds-nightly) (1.18.2)\n",
            "Requirement already satisfied: termcolor in /usr/local/lib/python3.6/dist-packages (from tfds-nightly) (1.1.0)\n",
            "Requirement already satisfied: protobuf>=3.6.1 in /usr/local/lib/python3.6/dist-packages (from tfds-nightly) (3.10.0)\n",
            "Requirement already satisfied: future in /usr/local/lib/python3.6/dist-packages (from tfds-nightly) (0.16.0)\n",
            "Requirement already satisfied: promise in /usr/local/lib/python3.6/dist-packages (from tfds-nightly) (2.3)\n",
            "Requirement already satisfied: attrs>=18.1.0 in /usr/local/lib/python3.6/dist-packages (from tfds-nightly) (19.3.0)\n",
            "Requirement already satisfied: requests>=2.19.0 in /usr/local/lib/python3.6/dist-packages (from tfds-nightly) (2.21.0)\n",
            "Requirement already satisfied: tqdm in /usr/local/lib/python3.6/dist-packages (from tfds-nightly) (4.38.0)\n",
            "Requirement already satisfied: wrapt in /usr/local/lib/python3.6/dist-packages (from tfds-nightly) (1.12.1)\n",
            "Requirement already satisfied: tensorflow-metadata in /usr/local/lib/python3.6/dist-packages (from tfds-nightly) (0.21.1)\n",
            "Requirement already satisfied: absl-py in /usr/local/lib/python3.6/dist-packages (from tfds-nightly) (0.9.0)\n",
            "Requirement already satisfied: dill in /usr/local/lib/python3.6/dist-packages (from tfds-nightly) (0.3.1.1)\n",
            "Requirement already satisfied: six in /usr/local/lib/python3.6/dist-packages (from tfds-nightly) (1.12.0)\n",
            "Requirement already satisfied: setuptools in /usr/local/lib/python3.6/dist-packages (from protobuf>=3.6.1->tfds-nightly) (46.0.0)\n",
            "Requirement already satisfied: urllib3<1.25,>=1.21.1 in /usr/local/lib/python3.6/dist-packages (from requests>=2.19.0->tfds-nightly) (1.24.3)\n",
            "Requirement already satisfied: certifi>=2017.4.17 in /usr/local/lib/python3.6/dist-packages (from requests>=2.19.0->tfds-nightly) (2019.11.28)\n",
            "Requirement already satisfied: idna<2.9,>=2.5 in /usr/local/lib/python3.6/dist-packages (from requests>=2.19.0->tfds-nightly) (2.8)\n",
            "Requirement already satisfied: chardet<3.1.0,>=3.0.2 in /usr/local/lib/python3.6/dist-packages (from requests>=2.19.0->tfds-nightly) (3.0.4)\n",
            "Requirement already satisfied: googleapis-common-protos in /usr/local/lib/python3.6/dist-packages (from tensorflow-metadata->tfds-nightly) (1.51.0)\n",
            "Version:  2.2.0-rc1\n",
            "Eager mode:  True\n",
            "Hub version:  0.7.0\n",
            "GPU is NOT AVAILABLE\n"
          ],
          "name": "stdout"
        }
      ]
    },
    {
      "cell_type": "code",
      "metadata": {
        "id": "7mVd5f2O42Iy",
        "colab_type": "code",
        "colab": {}
      },
      "source": [
        "Cleaned_Df = pd.DataFrame(data = corpus, columns = ['CleanedTweet'])\n",
        "label_df = pd.DataFrame(data = dataset.iloc[1:695, 0].values, columns = [\"Indicator\"])\n",
        "cleaned2_Df = pd.concat([label_df, Cleaned_Df], axis = 1)\n",
        "\n",
        "cleaned2_Df.to_csv(\"clean_Tweet.csv\", index=False)\n",
        "\n",
        "\n",
        "trained_dataset_url = \"clean_Tweet.csv\"\n",
        "df_train = pd.read_csv(trained_dataset_url)"
      ],
      "execution_count": 0,
      "outputs": []
    },
    {
      "cell_type": "code",
      "metadata": {
        "id": "UHTCWAmfNIjz",
        "colab_type": "code",
        "colab": {}
      },
      "source": [
        "train_data = (\n",
        "    tf.data.Dataset.from_tensor_slices(\n",
        "        (\n",
        "            tf.cast(df_train.iloc[:550, 1].values, tf.string),\n",
        "            tf.cast(df_train.iloc[:550, 0].values, tf.int32)\n",
        "        )\n",
        "    )\n",
        ")\n",
        "\n",
        "validation_data = (\n",
        "    tf.data.Dataset.from_tensor_slices(\n",
        "        (   \n",
        "            tf.cast(df_train.iloc[550:695, 1].values, tf.string),\n",
        "            tf.cast(df_train.iloc[550:695, 0].values, tf.int32)\n",
        "        )\n",
        "    )\n",
        ")"
      ],
      "execution_count": 0,
      "outputs": []
    },
    {
      "cell_type": "code",
      "metadata": {
        "id": "1dvQKlV959R2",
        "colab_type": "code",
        "colab": {}
      },
      "source": [
        "embedding = \"https://tfhub.dev/google/tf2-preview/nnlm-en-dim50/1\" \n",
        "hub_layer = hub.KerasLayer(embedding, input_shape=[], \n",
        "                           dtype=tf.string, trainable=True)"
      ],
      "execution_count": 0,
      "outputs": []
    },
    {
      "cell_type": "code",
      "metadata": {
        "id": "ZqLeaLYO6GCW",
        "colab_type": "code",
        "colab": {}
      },
      "source": [
        "from keras.layers import Dropout\n",
        "model = tf.keras.Sequential()\n",
        "model.add(hub_layer)\n",
        "\n",
        "model.add(tf.keras.layers.LSTM(16, activation = 'tanh'))\n",
        "#model.add(tf.keras.layers.LSTM(2, return_sequences=True, return_state=True))\n",
        "#model.add(tf.keras.layers.Dense(64, activation ='tanh'))\n",
        "model.add(tf.keras.layers.LSTM())\n",
        "model.add(tf.keras.layers.Dense(32, activation ='tanh'))\n",
        "#model.add(Dropout(0.2))\n",
        "model.add(tf.keras.layers.Dense(16, activation = 'tanh'))\n",
        "#model.add(Dropout(0.2))\n",
        "model.add(tf.keras.layers.Dense(1))"
      ],
      "execution_count": 0,
      "outputs": []
    },
    {
      "cell_type": "code",
      "metadata": {
        "id": "bqDLK0Yb6IM2",
        "colab_type": "code",
        "colab": {
          "base_uri": "https://localhost:8080/",
          "height": 289
        },
        "outputId": "9f24a614-8979-4451-85a5-f4d48092b73f"
      },
      "source": [
        "model.summary()"
      ],
      "execution_count": 134,
      "outputs": [
        {
          "output_type": "stream",
          "text": [
            "Model: \"sequential_6\"\n",
            "_________________________________________________________________\n",
            "Layer (type)                 Output Shape              Param #   \n",
            "=================================================================\n",
            "keras_layer_6 (KerasLayer)   (None, 50)                48190600  \n",
            "_________________________________________________________________\n",
            "dense_18 (Dense)             (None, 32)                1632      \n",
            "_________________________________________________________________\n",
            "dense_19 (Dense)             (None, 16)                528       \n",
            "_________________________________________________________________\n",
            "dense_20 (Dense)             (None, 1)                 17        \n",
            "=================================================================\n",
            "Total params: 48,192,777\n",
            "Trainable params: 48,192,777\n",
            "Non-trainable params: 0\n",
            "_________________________________________________________________\n"
          ],
          "name": "stdout"
        }
      ]
    },
    {
      "cell_type": "code",
      "metadata": {
        "id": "Ysrt4pwR6OqT",
        "colab_type": "code",
        "colab": {}
      },
      "source": [
        "model.compile(optimizer='adam', loss =tf.keras.losses.BinaryCrossentropy(from_logits=True), metrics=['accuracy'])"
      ],
      "execution_count": 0,
      "outputs": []
    },
    {
      "cell_type": "code",
      "metadata": {
        "id": "jmzc-MGa6QD7",
        "colab_type": "code",
        "colab": {
          "base_uri": "https://localhost:8080/",
          "height": 187
        },
        "outputId": "58940605-c046-49f4-db5d-fc6301150598"
      },
      "source": [
        "history = model.fit(train_data.shuffle(100).batch(24), epochs=5, validation_data=validation_data.batch(12), verbose=1)"
      ],
      "execution_count": 136,
      "outputs": [
        {
          "output_type": "stream",
          "text": [
            "Epoch 1/5\n",
            "23/23 [==============================] - 13s 546ms/step - loss: 0.6414 - accuracy: 0.7982 - val_loss: 0.5251 - val_accuracy: 0.8403\n",
            "Epoch 2/5\n",
            "23/23 [==============================] - 12s 533ms/step - loss: 0.4722 - accuracy: 0.8018 - val_loss: 0.4523 - val_accuracy: 0.8403\n",
            "Epoch 3/5\n",
            "23/23 [==============================] - 12s 522ms/step - loss: 0.3846 - accuracy: 0.8055 - val_loss: 0.4312 - val_accuracy: 0.8403\n",
            "Epoch 4/5\n",
            "23/23 [==============================] - 12s 525ms/step - loss: 0.2874 - accuracy: 0.8473 - val_loss: 0.4281 - val_accuracy: 0.8472\n",
            "Epoch 5/5\n",
            "23/23 [==============================] - 12s 527ms/step - loss: 0.1851 - accuracy: 0.9036 - val_loss: 0.4386 - val_accuracy: 0.8403\n"
          ],
          "name": "stdout"
        }
      ]
    },
    {
      "cell_type": "code",
      "metadata": {
        "id": "00sJTxno70od",
        "colab_type": "code",
        "colab": {
          "base_uri": "https://localhost:8080/",
          "height": 68
        },
        "outputId": "f46e1130-d4ec-4d53-b346-0bd0214ea800"
      },
      "source": [
        "results = model.evaluate(validation_data.batch(24), verbose=2)\n",
        "\n",
        "for name, value in zip(model.metrics_names, results):\n",
        "    print(\"%s: %.3f\" % (name, value))"
      ],
      "execution_count": 138,
      "outputs": [
        {
          "output_type": "stream",
          "text": [
            "6/6 - 0s - loss: 0.4386 - accuracy: 0.8403\n",
            "loss: 0.439\n",
            "accuracy: 0.840\n"
          ],
          "name": "stdout"
        }
      ]
    },
    {
      "cell_type": "code",
      "metadata": {
        "id": "jYCnnlgp8FvQ",
        "colab_type": "code",
        "colab": {}
      },
      "source": [
        "# Predicting the Test set results\n",
        "y_pred = model.predict(df_train.iloc[550:695, 1].values)\n",
        "y_pred = (y_pred > 0.5)"
      ],
      "execution_count": 0,
      "outputs": []
    },
    {
      "cell_type": "code",
      "metadata": {
        "id": "sURONhpqG8_R",
        "colab_type": "code",
        "colab": {
          "base_uri": "https://localhost:8080/",
          "height": 51
        },
        "outputId": "bc755199-eb40-4c8b-dac9-56d2d11f643b"
      },
      "source": [
        "from sklearn.metrics import confusion_matrix\n",
        "cm = confusion_matrix(df_train.iloc[550:695,0].values, y_pred)\n",
        "cm"
      ],
      "execution_count": 143,
      "outputs": [
        {
          "output_type": "execute_result",
          "data": {
            "text/plain": [
              "array([[119,   2],\n",
              "       [ 21,   2]])"
            ]
          },
          "metadata": {
            "tags": []
          },
          "execution_count": 143
        }
      ]
    },
    {
      "cell_type": "code",
      "metadata": {
        "id": "aKgjoYvDKF-a",
        "colab_type": "code",
        "colab": {
          "base_uri": "https://localhost:8080/",
          "height": 716
        },
        "outputId": "0ef1ce63-4aa4-4e86-b5f8-9f9d89fe6342"
      },
      "source": [
        "cm_ratio = cm/cm.sum(axis = 0)\n",
        "f, ax = plt.subplots(figsize=(15, 12))\n",
        "plt.title(\"Confusion Matrix\")\n",
        "plt.xlabel(\"Predicted\")\n",
        "plt.ylabel(\"Actual\")\n",
        "\n",
        "sns.heatmap(cm_ratio, mask=np.zeros_like(cm_ratio, dtype=np.bool), cmap=sns.diverging_palette(220, 10, as_cmap=True),\n",
        "            square=True, annot = True, ax=ax, annot_kws={\"size\":20})\n",
        "plt.show()"
      ],
      "execution_count": 144,
      "outputs": [
        {
          "output_type": "display_data",
          "data": {
            "image/png": "[encoded data removed]",
            "text/plain": [
              "<Figure size 1080x864 with 2 Axes>"
            ]
          },
          "metadata": {
            "tags": []
          }
        }
      ]
    },
    {
      "cell_type": "code",
      "metadata": {
        "id": "RLn1JIaoVZMk",
        "colab_type": "code",
        "outputId": "d49f5595-38c4-4adf-f587-48196537df87",
        "colab": {
          "base_uri": "https://localhost:8080/",
          "height": 1000
        }
      },
      "source": [
        "import matplotlib.pyplot as plt\n",
        "\n",
        "history_dict = history.history\n",
        "\n",
        "\n",
        "items = history.history.keys()\n",
        "\n",
        "\n",
        "acc = history_dict['accuracy']\n",
        "val_acc = history_dict['val_accuracy']\n",
        "loss=history_dict['loss']\n",
        "val_loss=history_dict['val_loss']\n",
        "\n",
        "epochs = range(1, len(acc) + 1)\n",
        "\n",
        "plt.figure(figsize=(12,9))\n",
        "plt.plot(epochs, loss, 'bo', label='Training loss')\n",
        "plt.plot(epochs, val_loss, 'b', label='Validation loss')\n",
        "plt.title('Training and validation loss')\n",
        "plt.xlabel('Epochs')\n",
        "plt.ylabel('Loss')\n",
        "plt.legend()\n",
        "plt.show()\n",
        "\n",
        "plt.figure(figsize=(12,9))\n",
        "plt.plot(epochs, acc, 'bo', label='Training acc')\n",
        "plt.plot(epochs, val_acc, 'b', label='Validation acc')\n",
        "plt.title('Training and validation accuracy')\n",
        "plt.xlabel('Epochs')\n",
        "plt.ylabel('Accuracy')\n",
        "plt.legend(loc='lower right')\n",
        "plt.ylim((0.5,1))\n",
        "plt.show()"
      ],
      "execution_count": 80,
      "outputs": [
        {
          "output_type": "display_data",
          "data": {
            "image/png": "[encoded data removed]",
            "text/plain": [
              "<Figure size 864x648 with 1 Axes>"
            ]
          },
          "metadata": {
            "tags": []
          }
        },
        {
          "output_type": "display_data",
          "data": {
            "image/png": "[encoded data removed]",
            "text/plain": [
              "<Figure size 864x648 with 1 Axes>"
            ]
          },
          "metadata": {
            "tags": []
          }
        }
      ]
    },
    {
      "cell_type": "code",
      "metadata": {
        "id": "aJeeme204egu",
        "colab_type": "code",
        "colab": {}
      },
      "source": [
        ""
      ],
      "execution_count": 0,
      "outputs": []
    },
    {
      "cell_type": "markdown",
      "metadata": {
        "id": "OmrNnMpENIj7",
        "colab_type": "text"
      },
      "source": [
        "### 3.3 K fold cross validation and grid search"
      ]
    },
    {
      "cell_type": "code",
      "metadata": {
        "id": "bzHEbukvNIj7",
        "colab_type": "code",
        "colab": {
          "base_uri": "https://localhost:8080/",
          "height": 34
        },
        "outputId": "8b0ad89e-c0e7-4846-dda0-32b8b59dd2b2"
      },
      "source": [
        "#from keras.wrappers.scikit_learn import KerasClassifier\n",
        "from keras.wrappers.scikit_learn import KerasClassifier\n",
        "\n",
        "#from sklearn.model_selection import cross_val_score\n",
        "#from keras.models import Sequential\n",
        "#from keras.layers import Dense\n",
        "import time"
      ],
      "execution_count": 13,
      "outputs": [
        {
          "output_type": "stream",
          "text": [
            "Using TensorFlow backend.\n"
          ],
          "name": "stderr"
        }
      ]
    },
    {
      "cell_type": "code",
      "metadata": {
        "id": "V6nI6aj3NIj9",
        "colab_type": "code",
        "colab": {}
      },
      "source": [
        "#rt = StratifiedKFold\n",
        "from sklearn.model_selection import StratifiedKFold\n",
        "from sklearn.metrics import confusion_matrix\n",
        "#kfold = KFold(10, True, 1)\n",
        "#for train, test in kfold.split(trn_X, trn_y)\n",
        "#accuracies = cross_val_score(estimator = classifier, X = X_train, y = y_train, cv = 10)\n",
        "\n",
        "#accuracies.mean()\n",
        "\n",
        "#accuracies.std()\n",
        "\n",
        "kf = StratifiedKFold(n_splits = 10, shuffle = True, random_state = 2)\n",
        "\n",
        "ifold = 0\n",
        "\n",
        "temp_df = pd.DataFrame(list())\n",
        "temp_df.to_csv('k_fold.csv.csv')\n",
        "f = open('k_fold.csv', 'w')\n",
        "\n",
        "dfObj = pd.DataFrame()\n",
        "\n",
        "df_recall_prec = pd.DataFrame()\n",
        "df_trn_X = df_train.iloc[:575, 1]\n",
        "df_trn_y = df_train.iloc[:575, 0]\n",
        "\n",
        "class_weight = {0: 1.,\n",
        "                1: 1.3\n",
        "                }\n",
        "\n",
        "for train_index, test_index in kf.split(df_trn_X, df_trn_y):\n",
        "    #X_tr_va, X_test =  X_train[train_index],  X_train[test_index]\n",
        "    #y_tr_va, y_test = y_train[train_index], y_train[test_index]\n",
        "    ifold = ifold +1\n",
        "\n",
        "    train_data = (\n",
        "      tf.data.Dataset.from_tensor_slices(\n",
        "        (\n",
        "            tf.cast(df_train.iloc[train_index, 1].values, tf.string),\n",
        "            tf.cast(df_train.iloc[train_index, 0].values, tf.int32)\n",
        "        )\n",
        "      )\n",
        "    )\n",
        "\n",
        "    validation_data = (\n",
        "      tf.data.Dataset.from_tensor_slices(\n",
        "        (   \n",
        "            tf.cast(df_train.iloc[575:695, 1].values, tf.string),\n",
        "            tf.cast(df_train.iloc[575:695, 0].values, tf.int32)\n",
        "        )\n",
        "      )\n",
        "    )\n",
        "    column_name = str(ifold)\n",
        "    embedding = \"https://tfhub.dev/google/tf2-preview/nnlm-en-dim50/1\" \n",
        "    hub_layer = hub.KerasLayer(embedding, input_shape=[], \n",
        "                           dtype=tf.string, trainable=True)\n",
        "    \n",
        "    model = tf.keras.Sequential()\n",
        "    model.add(hub_layer)\n",
        "    #model.add(tf.keras.layers.LSTM(16, activation = 'tanh'))\n",
        "    #model.add(tf.keras.layers.LSTM(2, return_sequences=True, return_state=True))\n",
        "    #model.add(tf.keras.layers.Dense(64, activation ='tanh'))\n",
        "    model.add(tf.keras.layers.Dense(32, activation ='tanh'))\n",
        "    #model.add(Dropout(0.2))\n",
        "    model.add(tf.keras.layers.Dense(16, activation = 'tanh'))\n",
        "    #model.add(Dropout(0.2))\n",
        "    model.add(tf.keras.layers.Dense(1))\n",
        "    \n",
        "    model.compile(optimizer='adam', loss =tf.keras.losses.BinaryCrossentropy(from_logits=True), metrics=['accuracy'])\n",
        "    history = model.fit(train_data.shuffle(100).batch(24), epochs=5, validation_data=validation_data.batch(12), verbose=1)\n",
        "    \n",
        "\n",
        "    # Predicting the Test set results\n",
        "    y_pred = model.predict(df_train.iloc[550:695, 1].values)\n",
        "    y_pred = (y_pred > 0.5)\n",
        "    \n",
        "    cm = confusion_matrix(df_train.iloc[550:695,0].values, y_pred)\n",
        "     \n",
        "    #y_pred = classifier.predict(X_test)\n",
        "    #y_pred = (y_pred > 0.5)\n",
        "\n",
        "    #cm = confusion_matrix(y_test, y_pred)\n",
        "    cm_ratio = cm/cm.sum(axis = 0)\n",
        "\n",
        "     \n",
        "    df_recall_prec[column_name] = cm_ratio.ravel()\n",
        "\n",
        "    \n",
        " \n",
        "df_recall_prec.to_csv(\"cm.csv\")"
      ],
      "execution_count": 0,
      "outputs": []
    },
    {
      "cell_type": "code",
      "metadata": {
        "id": "_SrIJQoaNIj_",
        "colab_type": "code",
        "colab": {}
      },
      "source": [
        "\n",
        "df_recallPrec= df_recall_prec.T\n",
        "df_= pd.DataFrame(data = df_recallPrec.to_numpy(), columns = ['Accuray', '1', '2', '3'])\n"
      ],
      "execution_count": 0,
      "outputs": []
    },
    {
      "cell_type": "code",
      "metadata": {
        "id": "nMQDlRAznXOJ",
        "colab_type": "code",
        "colab": {
          "base_uri": "https://localhost:8080/",
          "height": 298
        },
        "outputId": "8c90d0db-0122-4c16-8e08-ed904ae7d376"
      },
      "source": [
        "accuracys = [0.8319, 0.8487, 0.8487, 0.8581,0.8319, 0.8403, 0.8403, 0.8319, 0.8403, 0.8403]\n",
        "df_ = pd.DataFrame(data = accuracys, columns = ['Accuracy'])\n",
        "plt.title(\"K Fold Threshold Value Distribution\")\n",
        "df_.boxplot(column = [ 'Accuracy'])"
      ],
      "execution_count": 25,
      "outputs": [
        {
          "output_type": "execute_result",
          "data": {
            "text/plain": [
              "<matplotlib.axes._subplots.AxesSubplot at 0x7f263c9634a8>"
            ]
          },
          "metadata": {
            "tags": []
          },
          "execution_count": 25
        },
        {
          "output_type": "display_data",
          "data": {
            "image/png": "[encoded data removed]",
            "text/plain": [
              "<Figure size 432x288 with 1 Axes>"
            ]
          },
          "metadata": {
            "tags": []
          }
        }
      ]
    },
    {
      "cell_type": "markdown",
      "metadata": {
        "id": "XNYhwP2nNIkE",
        "colab_type": "text"
      },
      "source": [
        "## Our winner is artifical neural network with class weights: 85% accuracy and 50% of recall."
      ]
    },
    {
      "cell_type": "code",
      "metadata": {
        "id": "qGp5hgBKNIkE",
        "colab_type": "code",
        "colab": {}
      },
      "source": [
        ""
      ],
      "execution_count": 0,
      "outputs": []
    }
  ]
}